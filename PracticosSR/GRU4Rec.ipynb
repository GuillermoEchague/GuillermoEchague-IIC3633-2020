{
  "nbformat": 4,
  "nbformat_minor": 0,
  "metadata": {
    "colab": {
      "name": "GRU4Rec.ipynb",
      "provenance": [],
      "collapsed_sections": []
    },
    "kernelspec": {
      "name": "python3",
      "display_name": "Python 3"
    },
    "accelerator": "GPU"
  },
  "cells": [
    {
      "cell_type": "markdown",
      "metadata": {
        "id": "view-in-github"
      },
      "source": [
        "<a href=\"https://colab.research.google.com/github/PUC-RecSys-Class/RecSysPUC-2020/blob/master/practicos/GRU4Rec.ipynb\" target=\"_parent\"><img src=\"https://colab.research.google.com/assets/colab-badge.svg\" alt=\"Open In Colab\"/></a>\n"
      ]
    },
    {
      "cell_type": "markdown",
      "metadata": {
        "id": "bcrDor7CR1SO"
      },
      "source": [
        "# Gated Recurrent Units for session-based next item prediction\n",
        "\n",
        "Patricio Cerda, Bastián Mavrakis, Denis Parra\n",
        "\n",
        "### Ambiente: Python3 + GPU\n",
        "\n",
        "## Descargar datos y repositorio"
      ]
    },
    {
      "cell_type": "code",
      "metadata": {
        "id": "nCAQDIrOPUQP",
        "outputId": "2dbca472-7b37-43f4-e5a3-e14fab96e662",
        "colab": {
          "base_uri": "https://localhost:8080/",
          "height": 134
        }
      },
      "source": [
        "# Clone repo\n",
        "!git clone https://github.com/pcerdam/KerasGRU4Rec --single-branch src"
      ],
      "execution_count": 1,
      "outputs": [
        {
          "output_type": "stream",
          "text": [
            "Cloning into 'src'...\n",
            "remote: Enumerating objects: 37, done.\u001b[K\n",
            "remote: Counting objects: 100% (37/37), done.\u001b[K\n",
            "remote: Compressing objects: 100% (26/26), done.\u001b[K\n",
            "remote: Total 198 (delta 11), reused 24 (delta 9), pack-reused 161\u001b[K\n",
            "Receiving objects: 100% (198/198), 10.58 MiB | 19.66 MiB/s, done.\n",
            "Resolving deltas: 100% (83/83), done.\n"
          ],
          "name": "stdout"
        }
      ]
    },
    {
      "cell_type": "code",
      "metadata": {
        "id": "BpccDqjDPbjI",
        "outputId": "10c58719-382d-44a5-9d1a-6929938d356f",
        "colab": {
          "base_uri": "https://localhost:8080/",
          "height": 67
        }
      },
      "source": [
        "# Download RecSys Challenge 2015 dataset\n",
        "!rm -r sample_data\n",
        "!curl https://s3-eu-west-1.amazonaws.com/yc-rdata/yoochoose-data.7z --output data.7z"
      ],
      "execution_count": 2,
      "outputs": [
        {
          "output_type": "stream",
          "text": [
            "  % Total    % Received % Xferd  Average Speed   Time    Time     Time  Current\n",
            "                                 Dload  Upload   Total   Spent    Left  Speed\n",
            "100  273M  100  273M    0     0  18.8M      0  0:00:14  0:00:14 --:--:-- 21.8M\n"
          ],
          "name": "stdout"
        }
      ]
    },
    {
      "cell_type": "code",
      "metadata": {
        "id": "AJkLaRyqPp-z",
        "outputId": "72f6aee2-4775-4e2e-d060-6b0a7193e45a",
        "colab": {
          "base_uri": "https://localhost:8080/",
          "height": 386
        }
      },
      "source": [
        "# Extract dataset\n",
        "!7z e data.7z -o./rsc15\n",
        "!rm data.7z\n",
        "!mkdir data"
      ],
      "execution_count": 3,
      "outputs": [
        {
          "output_type": "stream",
          "text": [
            "\n",
            "7-Zip [64] 16.02 : Copyright (c) 1999-2016 Igor Pavlov : 2016-05-21\n",
            "p7zip Version 16.02 (locale=en_US.UTF-8,Utf16=on,HugeFiles=on,64 bits,2 CPUs Intel(R) Xeon(R) CPU @ 2.20GHz (406F0),ASM,AES-NI)\n",
            "\n",
            "Scanning the drive for archives:\n",
            "  0M Scan\b\b\b\b\b\b\b\b\b         \b\b\b\b\b\b\b\b\b1 file, 287211932 bytes (274 MiB)\n",
            "\n",
            "Extracting archive: data.7z\n",
            "--\n",
            "Path = data.7z\n",
            "Type = 7z\n",
            "Physical Size = 287211932\n",
            "Headers Size = 255\n",
            "Method = LZMA:24\n",
            "Solid = +\n",
            "Blocks = 2\n",
            "\n",
            "  0%\b\b\b\b    \b\b\b\b  0% - yoochoose-buys.dat\b\b\b\b\b\b\b\b\b\b\b\b\b\b\b\b\b\b\b\b\b\b\b\b\b                         \b\b\b\b\b\b\b\b\b\b\b\b\b\b\b\b\b\b\b\b\b\b\b\b\b  1% - yoochoose-buys.dat\b\b\b\b\b\b\b\b\b\b\b\b\b\b\b\b\b\b\b\b\b\b\b\b\b                         \b\b\b\b\b\b\b\b\b\b\b\b\b\b\b\b\b\b\b\b\b\b\b\b\b  2% - yoochoose-buys.dat\b\b\b\b\b\b\b\b\b\b\b\b\b\b\b\b\b\b\b\b\b\b\b\b\b                         \b\b\b\b\b\b\b\b\b\b\b\b\b\b\b\b\b\b\b\b\b\b\b\b\b  3% 1 - yoochoose-clicks.dat\b\b\b\b\b\b\b\b\b\b\b\b\b\b\b\b\b\b\b\b\b\b\b\b\b\b\b\b\b                             \b\b\b\b\b\b\b\b\b\b\b\b\b\b\b\b\b\b\b\b\b\b\b\b\b\b\b\b\b  4% 1 - yoochoose-clicks.dat\b\b\b\b\b\b\b\b\b\b\b\b\b\b\b\b\b\b\b\b\b\b\b\b\b\b\b\b\b                             \b\b\b\b\b\b\b\b\b\b\b\b\b\b\b\b\b\b\b\b\b\b\b\b\b\b\b\b\b  5% 1 - yoochoose-clicks.dat\b\b\b\b\b\b\b\b\b\b\b\b\b\b\b\b\b\b\b\b\b\b\b\b\b\b\b\b\b                             \b\b\b\b\b\b\b\b\b\b\b\b\b\b\b\b\b\b\b\b\b\b\b\b\b\b\b\b\b  6% 1 - yoochoose-clicks.dat\b\b\b\b\b\b\b\b\b\b\b\b\b\b\b\b\b\b\b\b\b\b\b\b\b\b\b\b\b                             \b\b\b\b\b\b\b\b\b\b\b\b\b\b\b\b\b\b\b\b\b\b\b\b\b\b\b\b\b  7% 1 - yoochoose-clicks.dat\b\b\b\b\b\b\b\b\b\b\b\b\b\b\b\b\b\b\b\b\b\b\b\b\b\b\b\b\b                             \b\b\b\b\b\b\b\b\b\b\b\b\b\b\b\b\b\b\b\b\b\b\b\b\b\b\b\b\b  8% 1 - yoochoose-clicks.dat\b\b\b\b\b\b\b\b\b\b\b\b\b\b\b\b\b\b\b\b\b\b\b\b\b\b\b\b\b                             \b\b\b\b\b\b\b\b\b\b\b\b\b\b\b\b\b\b\b\b\b\b\b\b\b\b\b\b\b  9% 1 - yoochoose-clicks.dat\b\b\b\b\b\b\b\b\b\b\b\b\b\b\b\b\b\b\b\b\b\b\b\b\b\b\b\b\b                             \b\b\b\b\b\b\b\b\b\b\b\b\b\b\b\b\b\b\b\b\b\b\b\b\b\b\b\b\b 10% 1 - yoochoose-clicks.dat\b\b\b\b\b\b\b\b\b\b\b\b\b\b\b\b\b\b\b\b\b\b\b\b\b\b\b\b\b                             \b\b\b\b\b\b\b\b\b\b\b\b\b\b\b\b\b\b\b\b\b\b\b\b\b\b\b\b\b 11% 1 - yoochoose-clicks.dat\b\b\b\b\b\b\b\b\b\b\b\b\b\b\b\b\b\b\b\b\b\b\b\b\b\b\b\b\b                             \b\b\b\b\b\b\b\b\b\b\b\b\b\b\b\b\b\b\b\b\b\b\b\b\b\b\b\b\b 12% 1 - yoochoose-clicks.dat\b\b\b\b\b\b\b\b\b\b\b\b\b\b\b\b\b\b\b\b\b\b\b\b\b\b\b\b\b                             \b\b\b\b\b\b\b\b\b\b\b\b\b\b\b\b\b\b\b\b\b\b\b\b\b\b\b\b\b 13% 1 - yoochoose-clicks.dat\b\b\b\b\b\b\b\b\b\b\b\b\b\b\b\b\b\b\b\b\b\b\b\b\b\b\b\b\b                             \b\b\b\b\b\b\b\b\b\b\b\b\b\b\b\b\b\b\b\b\b\b\b\b\b\b\b\b\b 14% 1 - yoochoose-clicks.dat\b\b\b\b\b\b\b\b\b\b\b\b\b\b\b\b\b\b\b\b\b\b\b\b\b\b\b\b\b                             \b\b\b\b\b\b\b\b\b\b\b\b\b\b\b\b\b\b\b\b\b\b\b\b\b\b\b\b\b 15% 1 - yoochoose-clicks.dat\b\b\b\b\b\b\b\b\b\b\b\b\b\b\b\b\b\b\b\b\b\b\b\b\b\b\b\b\b                             \b\b\b\b\b\b\b\b\b\b\b\b\b\b\b\b\b\b\b\b\b\b\b\b\b\b\b\b\b 16% 1 - yoochoose-clicks.dat\b\b\b\b\b\b\b\b\b\b\b\b\b\b\b\b\b\b\b\b\b\b\b\b\b\b\b\b\b                             \b\b\b\b\b\b\b\b\b\b\b\b\b\b\b\b\b\b\b\b\b\b\b\b\b\b\b\b\b 17% 1 - yoochoose-clicks.dat\b\b\b\b\b\b\b\b\b\b\b\b\b\b\b\b\b\b\b\b\b\b\b\b\b\b\b\b\b                             \b\b\b\b\b\b\b\b\b\b\b\b\b\b\b\b\b\b\b\b\b\b\b\b\b\b\b\b\b 18% 1 - yoochoose-clicks.dat\b\b\b\b\b\b\b\b\b\b\b\b\b\b\b\b\b\b\b\b\b\b\b\b\b\b\b\b\b                             \b\b\b\b\b\b\b\b\b\b\b\b\b\b\b\b\b\b\b\b\b\b\b\b\b\b\b\b\b 19% 1 - yoochoose-clicks.dat\b\b\b\b\b\b\b\b\b\b\b\b\b\b\b\b\b\b\b\b\b\b\b\b\b\b\b\b\b                             \b\b\b\b\b\b\b\b\b\b\b\b\b\b\b\b\b\b\b\b\b\b\b\b\b\b\b\b\b 20% 1 - yoochoose-clicks.dat\b\b\b\b\b\b\b\b\b\b\b\b\b\b\b\b\b\b\b\b\b\b\b\b\b\b\b\b\b                             \b\b\b\b\b\b\b\b\b\b\b\b\b\b\b\b\b\b\b\b\b\b\b\b\b\b\b\b\b 21% 1 - yoochoose-clicks.dat\b\b\b\b\b\b\b\b\b\b\b\b\b\b\b\b\b\b\b\b\b\b\b\b\b\b\b\b\b                             \b\b\b\b\b\b\b\b\b\b\b\b\b\b\b\b\b\b\b\b\b\b\b\b\b\b\b\b\b 22% 1 - yoochoose-clicks.dat\b\b\b\b\b\b\b\b\b\b\b\b\b\b\b\b\b\b\b\b\b\b\b\b\b\b\b\b\b                             \b\b\b\b\b\b\b\b\b\b\b\b\b\b\b\b\b\b\b\b\b\b\b\b\b\b\b\b\b 23% 1 - yoochoose-clicks.dat\b\b\b\b\b\b\b\b\b\b\b\b\b\b\b\b\b\b\b\b\b\b\b\b\b\b\b\b\b                             \b\b\b\b\b\b\b\b\b\b\b\b\b\b\b\b\b\b\b\b\b\b\b\b\b\b\b\b\b 24% 1 - yoochoose-clicks.dat\b\b\b\b\b\b\b\b\b\b\b\b\b\b\b\b\b\b\b\b\b\b\b\b\b\b\b\b\b                             \b\b\b\b\b\b\b\b\b\b\b\b\b\b\b\b\b\b\b\b\b\b\b\b\b\b\b\b\b 25% 1 - yoochoose-clicks.dat\b\b\b\b\b\b\b\b\b\b\b\b\b\b\b\b\b\b\b\b\b\b\b\b\b\b\b\b\b                             \b\b\b\b\b\b\b\b\b\b\b\b\b\b\b\b\b\b\b\b\b\b\b\b\b\b\b\b\b 26% 1 - yoochoose-clicks.dat\b\b\b\b\b\b\b\b\b\b\b\b\b\b\b\b\b\b\b\b\b\b\b\b\b\b\b\b\b                             \b\b\b\b\b\b\b\b\b\b\b\b\b\b\b\b\b\b\b\b\b\b\b\b\b\b\b\b\b 27% 1 - yoochoose-clicks.dat\b\b\b\b\b\b\b\b\b\b\b\b\b\b\b\b\b\b\b\b\b\b\b\b\b\b\b\b\b                             \b\b\b\b\b\b\b\b\b\b\b\b\b\b\b\b\b\b\b\b\b\b\b\b\b\b\b\b\b 28% 1 - yoochoose-clicks.dat\b\b\b\b\b\b\b\b\b\b\b\b\b\b\b\b\b\b\b\b\b\b\b\b\b\b\b\b\b                             \b\b\b\b\b\b\b\b\b\b\b\b\b\b\b\b\b\b\b\b\b\b\b\b\b\b\b\b\b 29% 1 - yoochoose-clicks.dat\b\b\b\b\b\b\b\b\b\b\b\b\b\b\b\b\b\b\b\b\b\b\b\b\b\b\b\b\b                             \b\b\b\b\b\b\b\b\b\b\b\b\b\b\b\b\b\b\b\b\b\b\b\b\b\b\b\b\b 30% 1 - yoochoose-clicks.dat\b\b\b\b\b\b\b\b\b\b\b\b\b\b\b\b\b\b\b\b\b\b\b\b\b\b\b\b\b                             \b\b\b\b\b\b\b\b\b\b\b\b\b\b\b\b\b\b\b\b\b\b\b\b\b\b\b\b\b 31% 1 - yoochoose-clicks.dat\b\b\b\b\b\b\b\b\b\b\b\b\b\b\b\b\b\b\b\b\b\b\b\b\b\b\b\b\b                             \b\b\b\b\b\b\b\b\b\b\b\b\b\b\b\b\b\b\b\b\b\b\b\b\b\b\b\b\b 32% 1 - yoochoose-clicks.dat\b\b\b\b\b\b\b\b\b\b\b\b\b\b\b\b\b\b\b\b\b\b\b\b\b\b\b\b\b                             \b\b\b\b\b\b\b\b\b\b\b\b\b\b\b\b\b\b\b\b\b\b\b\b\b\b\b\b\b 33% 1 - yoochoose-clicks.dat\b\b\b\b\b\b\b\b\b\b\b\b\b\b\b\b\b\b\b\b\b\b\b\b\b\b\b\b\b                             \b\b\b\b\b\b\b\b\b\b\b\b\b\b\b\b\b\b\b\b\b\b\b\b\b\b\b\b\b 34% 1 - yoochoose-clicks.dat\b\b\b\b\b\b\b\b\b\b\b\b\b\b\b\b\b\b\b\b\b\b\b\b\b\b\b\b\b                             \b\b\b\b\b\b\b\b\b\b\b\b\b\b\b\b\b\b\b\b\b\b\b\b\b\b\b\b\b 35% 1 - yoochoose-clicks.dat\b\b\b\b\b\b\b\b\b\b\b\b\b\b\b\b\b\b\b\b\b\b\b\b\b\b\b\b\b                             \b\b\b\b\b\b\b\b\b\b\b\b\b\b\b\b\b\b\b\b\b\b\b\b\b\b\b\b\b 36% 1 - yoochoose-clicks.dat\b\b\b\b\b\b\b\b\b\b\b\b\b\b\b\b\b\b\b\b\b\b\b\b\b\b\b\b\b                             \b\b\b\b\b\b\b\b\b\b\b\b\b\b\b\b\b\b\b\b\b\b\b\b\b\b\b\b\b 37% 1 - yoochoose-clicks.dat\b\b\b\b\b\b\b\b\b\b\b\b\b\b\b\b\b\b\b\b\b\b\b\b\b\b\b\b\b                             \b\b\b\b\b\b\b\b\b\b\b\b\b\b\b\b\b\b\b\b\b\b\b\b\b\b\b\b\b 38% 1 - yoochoose-clicks.dat\b\b\b\b\b\b\b\b\b\b\b\b\b\b\b\b\b\b\b\b\b\b\b\b\b\b\b\b\b                             \b\b\b\b\b\b\b\b\b\b\b\b\b\b\b\b\b\b\b\b\b\b\b\b\b\b\b\b\b 39% 1 - yoochoose-clicks.dat\b\b\b\b\b\b\b\b\b\b\b\b\b\b\b\b\b\b\b\b\b\b\b\b\b\b\b\b\b                             \b\b\b\b\b\b\b\b\b\b\b\b\b\b\b\b\b\b\b\b\b\b\b\b\b\b\b\b\b 40% 1 - yoochoose-clicks.dat\b\b\b\b\b\b\b\b\b\b\b\b\b\b\b\b\b\b\b\b\b\b\b\b\b\b\b\b\b                             \b\b\b\b\b\b\b\b\b\b\b\b\b\b\b\b\b\b\b\b\b\b\b\b\b\b\b\b\b 41% 1 - yoochoose-clicks.dat\b\b\b\b\b\b\b\b\b\b\b\b\b\b\b\b\b\b\b\b\b\b\b\b\b\b\b\b\b                             \b\b\b\b\b\b\b\b\b\b\b\b\b\b\b\b\b\b\b\b\b\b\b\b\b\b\b\b\b 42% 1 - yoochoose-clicks.dat\b\b\b\b\b\b\b\b\b\b\b\b\b\b\b\b\b\b\b\b\b\b\b\b\b\b\b\b\b                             \b\b\b\b\b\b\b\b\b\b\b\b\b\b\b\b\b\b\b\b\b\b\b\b\b\b\b\b\b 43% 1 - yoochoose-clicks.dat\b\b\b\b\b\b\b\b\b\b\b\b\b\b\b\b\b\b\b\b\b\b\b\b\b\b\b\b\b                             \b\b\b\b\b\b\b\b\b\b\b\b\b\b\b\b\b\b\b\b\b\b\b\b\b\b\b\b\b 44% 1 - yoochoose-clicks.dat\b\b\b\b\b\b\b\b\b\b\b\b\b\b\b\b\b\b\b\b\b\b\b\b\b\b\b\b\b                             \b\b\b\b\b\b\b\b\b\b\b\b\b\b\b\b\b\b\b\b\b\b\b\b\b\b\b\b\b 45% 1 - yoochoose-clicks.dat\b\b\b\b\b\b\b\b\b\b\b\b\b\b\b\b\b\b\b\b\b\b\b\b\b\b\b\b\b                             \b\b\b\b\b\b\b\b\b\b\b\b\b\b\b\b\b\b\b\b\b\b\b\b\b\b\b\b\b 46% 1 - yoochoose-clicks.dat\b\b\b\b\b\b\b\b\b\b\b\b\b\b\b\b\b\b\b\b\b\b\b\b\b\b\b\b\b                             \b\b\b\b\b\b\b\b\b\b\b\b\b\b\b\b\b\b\b\b\b\b\b\b\b\b\b\b\b 47% 1 - yoochoose-clicks.dat\b\b\b\b\b\b\b\b\b\b\b\b\b\b\b\b\b\b\b\b\b\b\b\b\b\b\b\b\b                             \b\b\b\b\b\b\b\b\b\b\b\b\b\b\b\b\b\b\b\b\b\b\b\b\b\b\b\b\b 48% 1 - yoochoose-clicks.dat\b\b\b\b\b\b\b\b\b\b\b\b\b\b\b\b\b\b\b\b\b\b\b\b\b\b\b\b\b                             \b\b\b\b\b\b\b\b\b\b\b\b\b\b\b\b\b\b\b\b\b\b\b\b\b\b\b\b\b 49% 1 - yoochoose-clicks.dat\b\b\b\b\b\b\b\b\b\b\b\b\b\b\b\b\b\b\b\b\b\b\b\b\b\b\b\b\b                             \b\b\b\b\b\b\b\b\b\b\b\b\b\b\b\b\b\b\b\b\b\b\b\b\b\b\b\b\b 50% 1 - yoochoose-clicks.dat\b\b\b\b\b\b\b\b\b\b\b\b\b\b\b\b\b\b\b\b\b\b\b\b\b\b\b\b\b                             \b\b\b\b\b\b\b\b\b\b\b\b\b\b\b\b\b\b\b\b\b\b\b\b\b\b\b\b\b 51% 1 - yoochoose-clicks.dat\b\b\b\b\b\b\b\b\b\b\b\b\b\b\b\b\b\b\b\b\b\b\b\b\b\b\b\b\b                             \b\b\b\b\b\b\b\b\b\b\b\b\b\b\b\b\b\b\b\b\b\b\b\b\b\b\b\b\b 52% 1 - yoochoose-clicks.dat\b\b\b\b\b\b\b\b\b\b\b\b\b\b\b\b\b\b\b\b\b\b\b\b\b\b\b\b\b                             \b\b\b\b\b\b\b\b\b\b\b\b\b\b\b\b\b\b\b\b\b\b\b\b\b\b\b\b\b 53% 1 - yoochoose-clicks.dat\b\b\b\b\b\b\b\b\b\b\b\b\b\b\b\b\b\b\b\b\b\b\b\b\b\b\b\b\b                             \b\b\b\b\b\b\b\b\b\b\b\b\b\b\b\b\b\b\b\b\b\b\b\b\b\b\b\b\b 54% 1 - yoochoose-clicks.dat\b\b\b\b\b\b\b\b\b\b\b\b\b\b\b\b\b\b\b\b\b\b\b\b\b\b\b\b\b                             \b\b\b\b\b\b\b\b\b\b\b\b\b\b\b\b\b\b\b\b\b\b\b\b\b\b\b\b\b 55% 1 - yoochoose-clicks.dat\b\b\b\b\b\b\b\b\b\b\b\b\b\b\b\b\b\b\b\b\b\b\b\b\b\b\b\b\b                             \b\b\b\b\b\b\b\b\b\b\b\b\b\b\b\b\b\b\b\b\b\b\b\b\b\b\b\b\b 56% 1 - yoochoose-clicks.dat\b\b\b\b\b\b\b\b\b\b\b\b\b\b\b\b\b\b\b\b\b\b\b\b\b\b\b\b\b                             \b\b\b\b\b\b\b\b\b\b\b\b\b\b\b\b\b\b\b\b\b\b\b\b\b\b\b\b\b 57% 1 - yoochoose-clicks.dat\b\b\b\b\b\b\b\b\b\b\b\b\b\b\b\b\b\b\b\b\b\b\b\b\b\b\b\b\b                             \b\b\b\b\b\b\b\b\b\b\b\b\b\b\b\b\b\b\b\b\b\b\b\b\b\b\b\b\b 58% 1 - yoochoose-clicks.dat\b\b\b\b\b\b\b\b\b\b\b\b\b\b\b\b\b\b\b\b\b\b\b\b\b\b\b\b\b                             \b\b\b\b\b\b\b\b\b\b\b\b\b\b\b\b\b\b\b\b\b\b\b\b\b\b\b\b\b 59% 1 - yoochoose-clicks.dat\b\b\b\b\b\b\b\b\b\b\b\b\b\b\b\b\b\b\b\b\b\b\b\b\b\b\b\b\b                             \b\b\b\b\b\b\b\b\b\b\b\b\b\b\b\b\b\b\b\b\b\b\b\b\b\b\b\b\b 60% 1 - yoochoose-clicks.dat\b\b\b\b\b\b\b\b\b\b\b\b\b\b\b\b\b\b\b\b\b\b\b\b\b\b\b\b\b                             \b\b\b\b\b\b\b\b\b\b\b\b\b\b\b\b\b\b\b\b\b\b\b\b\b\b\b\b\b 61% 1 - yoochoose-clicks.dat\b\b\b\b\b\b\b\b\b\b\b\b\b\b\b\b\b\b\b\b\b\b\b\b\b\b\b\b\b                             \b\b\b\b\b\b\b\b\b\b\b\b\b\b\b\b\b\b\b\b\b\b\b\b\b\b\b\b\b 62% 1 - yoochoose-clicks.dat\b\b\b\b\b\b\b\b\b\b\b\b\b\b\b\b\b\b\b\b\b\b\b\b\b\b\b\b\b                             \b\b\b\b\b\b\b\b\b\b\b\b\b\b\b\b\b\b\b\b\b\b\b\b\b\b\b\b\b 63% 1 - yoochoose-clicks.dat\b\b\b\b\b\b\b\b\b\b\b\b\b\b\b\b\b\b\b\b\b\b\b\b\b\b\b\b\b                             \b\b\b\b\b\b\b\b\b\b\b\b\b\b\b\b\b\b\b\b\b\b\b\b\b\b\b\b\b 64% 1 - yoochoose-clicks.dat\b\b\b\b\b\b\b\b\b\b\b\b\b\b\b\b\b\b\b\b\b\b\b\b\b\b\b\b\b                             \b\b\b\b\b\b\b\b\b\b\b\b\b\b\b\b\b\b\b\b\b\b\b\b\b\b\b\b\b 65% 1 - yoochoose-clicks.dat\b\b\b\b\b\b\b\b\b\b\b\b\b\b\b\b\b\b\b\b\b\b\b\b\b\b\b\b\b                             \b\b\b\b\b\b\b\b\b\b\b\b\b\b\b\b\b\b\b\b\b\b\b\b\b\b\b\b\b 66% 1 - yoochoose-clicks.dat\b\b\b\b\b\b\b\b\b\b\b\b\b\b\b\b\b\b\b\b\b\b\b\b\b\b\b\b\b                             \b\b\b\b\b\b\b\b\b\b\b\b\b\b\b\b\b\b\b\b\b\b\b\b\b\b\b\b\b 67% 1 - yoochoose-clicks.dat\b\b\b\b\b\b\b\b\b\b\b\b\b\b\b\b\b\b\b\b\b\b\b\b\b\b\b\b\b                             \b\b\b\b\b\b\b\b\b\b\b\b\b\b\b\b\b\b\b\b\b\b\b\b\b\b\b\b\b 68% 1 - yoochoose-clicks.dat\b\b\b\b\b\b\b\b\b\b\b\b\b\b\b\b\b\b\b\b\b\b\b\b\b\b\b\b\b                             \b\b\b\b\b\b\b\b\b\b\b\b\b\b\b\b\b\b\b\b\b\b\b\b\b\b\b\b\b 69% 1 - yoochoose-clicks.dat\b\b\b\b\b\b\b\b\b\b\b\b\b\b\b\b\b\b\b\b\b\b\b\b\b\b\b\b\b                             \b\b\b\b\b\b\b\b\b\b\b\b\b\b\b\b\b\b\b\b\b\b\b\b\b\b\b\b\b 70% 1 - yoochoose-clicks.dat\b\b\b\b\b\b\b\b\b\b\b\b\b\b\b\b\b\b\b\b\b\b\b\b\b\b\b\b\b                             \b\b\b\b\b\b\b\b\b\b\b\b\b\b\b\b\b\b\b\b\b\b\b\b\b\b\b\b\b 71% 1 - yoochoose-clicks.dat\b\b\b\b\b\b\b\b\b\b\b\b\b\b\b\b\b\b\b\b\b\b\b\b\b\b\b\b\b                             \b\b\b\b\b\b\b\b\b\b\b\b\b\b\b\b\b\b\b\b\b\b\b\b\b\b\b\b\b 72% 1 - yoochoose-clicks.dat\b\b\b\b\b\b\b\b\b\b\b\b\b\b\b\b\b\b\b\b\b\b\b\b\b\b\b\b\b                             \b\b\b\b\b\b\b\b\b\b\b\b\b\b\b\b\b\b\b\b\b\b\b\b\b\b\b\b\b 73% 1 - yoochoose-clicks.dat\b\b\b\b\b\b\b\b\b\b\b\b\b\b\b\b\b\b\b\b\b\b\b\b\b\b\b\b\b                             \b\b\b\b\b\b\b\b\b\b\b\b\b\b\b\b\b\b\b\b\b\b\b\b\b\b\b\b\b 74% 1 - yoochoose-clicks.dat\b\b\b\b\b\b\b\b\b\b\b\b\b\b\b\b\b\b\b\b\b\b\b\b\b\b\b\b\b                             \b\b\b\b\b\b\b\b\b\b\b\b\b\b\b\b\b\b\b\b\b\b\b\b\b\b\b\b\b 75% 1 - yoochoose-clicks.dat\b\b\b\b\b\b\b\b\b\b\b\b\b\b\b\b\b\b\b\b\b\b\b\b\b\b\b\b\b                             \b\b\b\b\b\b\b\b\b\b\b\b\b\b\b\b\b\b\b\b\b\b\b\b\b\b\b\b\b 76% 1 - yoochoose-clicks.dat\b\b\b\b\b\b\b\b\b\b\b\b\b\b\b\b\b\b\b\b\b\b\b\b\b\b\b\b\b                             \b\b\b\b\b\b\b\b\b\b\b\b\b\b\b\b\b\b\b\b\b\b\b\b\b\b\b\b\b 77% 1 - yoochoose-clicks.dat\b\b\b\b\b\b\b\b\b\b\b\b\b\b\b\b\b\b\b\b\b\b\b\b\b\b\b\b\b                             \b\b\b\b\b\b\b\b\b\b\b\b\b\b\b\b\b\b\b\b\b\b\b\b\b\b\b\b\b 78% 1 - yoochoose-clicks.dat\b\b\b\b\b\b\b\b\b\b\b\b\b\b\b\b\b\b\b\b\b\b\b\b\b\b\b\b\b                             \b\b\b\b\b\b\b\b\b\b\b\b\b\b\b\b\b\b\b\b\b\b\b\b\b\b\b\b\b 79% 1 - yoochoose-clicks.dat\b\b\b\b\b\b\b\b\b\b\b\b\b\b\b\b\b\b\b\b\b\b\b\b\b\b\b\b\b                             \b\b\b\b\b\b\b\b\b\b\b\b\b\b\b\b\b\b\b\b\b\b\b\b\b\b\b\b\b 80% 1 - yoochoose-clicks.dat\b\b\b\b\b\b\b\b\b\b\b\b\b\b\b\b\b\b\b\b\b\b\b\b\b\b\b\b\b                             \b\b\b\b\b\b\b\b\b\b\b\b\b\b\b\b\b\b\b\b\b\b\b\b\b\b\b\b\b 80% 2 - yoochoose-test.dat\b\b\b\b\b\b\b\b\b\b\b\b\b\b\b\b\b\b\b\b\b\b\b\b\b\b\b                           \b\b\b\b\b\b\b\b\b\b\b\b\b\b\b\b\b\b\b\b\b\b\b\b\b\b\b 81% 2 - yoochoose-test.dat\b\b\b\b\b\b\b\b\b\b\b\b\b\b\b\b\b\b\b\b\b\b\b\b\b\b\b                           \b\b\b\b\b\b\b\b\b\b\b\b\b\b\b\b\b\b\b\b\b\b\b\b\b\b\b 82% 2 - yoochoose-test.dat\b\b\b\b\b\b\b\b\b\b\b\b\b\b\b\b\b\b\b\b\b\b\b\b\b\b\b                           \b\b\b\b\b\b\b\b\b\b\b\b\b\b\b\b\b\b\b\b\b\b\b\b\b\b\b 83% 2 - yoochoose-test.dat\b\b\b\b\b\b\b\b\b\b\b\b\b\b\b\b\b\b\b\b\b\b\b\b\b\b\b                           \b\b\b\b\b\b\b\b\b\b\b\b\b\b\b\b\b\b\b\b\b\b\b\b\b\b\b 84% 2 - yoochoose-test.dat\b\b\b\b\b\b\b\b\b\b\b\b\b\b\b\b\b\b\b\b\b\b\b\b\b\b\b                           \b\b\b\b\b\b\b\b\b\b\b\b\b\b\b\b\b\b\b\b\b\b\b\b\b\b\b 85% 2 - yoochoose-test.dat\b\b\b\b\b\b\b\b\b\b\b\b\b\b\b\b\b\b\b\b\b\b\b\b\b\b\b                           \b\b\b\b\b\b\b\b\b\b\b\b\b\b\b\b\b\b\b\b\b\b\b\b\b\b\b 86% 2 - yoochoose-test.dat\b\b\b\b\b\b\b\b\b\b\b\b\b\b\b\b\b\b\b\b\b\b\b\b\b\b\b                           \b\b\b\b\b\b\b\b\b\b\b\b\b\b\b\b\b\b\b\b\b\b\b\b\b\b\b 87% 2 - yoochoose-test.dat\b\b\b\b\b\b\b\b\b\b\b\b\b\b\b\b\b\b\b\b\b\b\b\b\b\b\b                           \b\b\b\b\b\b\b\b\b\b\b\b\b\b\b\b\b\b\b\b\b\b\b\b\b\b\b 88% 2 - yoochoose-test.dat\b\b\b\b\b\b\b\b\b\b\b\b\b\b\b\b\b\b\b\b\b\b\b\b\b\b\b                           \b\b\b\b\b\b\b\b\b\b\b\b\b\b\b\b\b\b\b\b\b\b\b\b\b\b\b 89% 2 - yoochoose-test.dat\b\b\b\b\b\b\b\b\b\b\b\b\b\b\b\b\b\b\b\b\b\b\b\b\b\b\b                           \b\b\b\b\b\b\b\b\b\b\b\b\b\b\b\b\b\b\b\b\b\b\b\b\b\b\b 90% 2 - yoochoose-test.dat\b\b\b\b\b\b\b\b\b\b\b\b\b\b\b\b\b\b\b\b\b\b\b\b\b\b\b                           \b\b\b\b\b\b\b\b\b\b\b\b\b\b\b\b\b\b\b\b\b\b\b\b\b\b\b 91% 2 - yoochoose-test.dat\b\b\b\b\b\b\b\b\b\b\b\b\b\b\b\b\b\b\b\b\b\b\b\b\b\b\b                           \b\b\b\b\b\b\b\b\b\b\b\b\b\b\b\b\b\b\b\b\b\b\b\b\b\b\b 92% 2 - yoochoose-test.dat\b\b\b\b\b\b\b\b\b\b\b\b\b\b\b\b\b\b\b\b\b\b\b\b\b\b\b                           \b\b\b\b\b\b\b\b\b\b\b\b\b\b\b\b\b\b\b\b\b\b\b\b\b\b\b 93% 2 - yoochoose-test.dat\b\b\b\b\b\b\b\b\b\b\b\b\b\b\b\b\b\b\b\b\b\b\b\b\b\b\b                           \b\b\b\b\b\b\b\b\b\b\b\b\b\b\b\b\b\b\b\b\b\b\b\b\b\b\b 94% 2 - yoochoose-test.dat\b\b\b\b\b\b\b\b\b\b\b\b\b\b\b\b\b\b\b\b\b\b\b\b\b\b\b                           \b\b\b\b\b\b\b\b\b\b\b\b\b\b\b\b\b\b\b\b\b\b\b\b\b\b\b 95% 2 - yoochoose-test.dat\b\b\b\b\b\b\b\b\b\b\b\b\b\b\b\b\b\b\b\b\b\b\b\b\b\b\b                           \b\b\b\b\b\b\b\b\b\b\b\b\b\b\b\b\b\b\b\b\b\b\b\b\b\b\b 96% 2 - yoochoose-test.dat\b\b\b\b\b\b\b\b\b\b\b\b\b\b\b\b\b\b\b\b\b\b\b\b\b\b\b                           \b\b\b\b\b\b\b\b\b\b\b\b\b\b\b\b\b\b\b\b\b\b\b\b\b\b\b 97% 2 - yoochoose-test.dat\b\b\b\b\b\b\b\b\b\b\b\b\b\b\b\b\b\b\b\b\b\b\b\b\b\b\b                           \b\b\b\b\b\b\b\b\b\b\b\b\b\b\b\b\b\b\b\b\b\b\b\b\b\b\b 98% 2 - yoochoose-test.dat\b\b\b\b\b\b\b\b\b\b\b\b\b\b\b\b\b\b\b\b\b\b\b\b\b\b\b                           \b\b\b\b\b\b\b\b\b\b\b\b\b\b\b\b\b\b\b\b\b\b\b\b\b\b\b 99% 2 - yoochoose-test.dat\b\b\b\b\b\b\b\b\b\b\b\b\b\b\b\b\b\b\b\b\b\b\b\b\b\b\b                           \b\b\b\b\b\b\b\b\b\b\b\b\b\b\b\b\b\b\b\b\b\b\b\b\b\b\b 99% 3\b\b\b\b\b\b      \b\b\b\b\b\bEverything is Ok\n",
            "\n",
            "Files: 4\n",
            "Size:       1914111754\n",
            "Compressed: 287211932\n"
          ],
          "name": "stdout"
        }
      ]
    },
    {
      "cell_type": "markdown",
      "metadata": {
        "id": "gpjJOcqDR945"
      },
      "source": [
        "# Preprocesar dataset"
      ]
    },
    {
      "cell_type": "code",
      "metadata": {
        "id": "7E3mSmYQR9k-"
      },
      "source": [
        "import os\n",
        "import numpy as np\n",
        "import pandas as pd\n",
        "import datetime as dt\n",
        "from matplotlib import pyplot as plt\n",
        "os.environ['TF_CPP_MIN_LOG_LEVEL'] = '3'"
      ],
      "execution_count": 4,
      "outputs": []
    },
    {
      "cell_type": "code",
      "metadata": {
        "id": "WwNyFUAHRssj"
      },
      "source": [
        "src_path = './rsc15/'\n",
        "dst_path   = './data/'"
      ],
      "execution_count": 5,
      "outputs": []
    },
    {
      "cell_type": "code",
      "metadata": {
        "id": "om43PXTNSoLu"
      },
      "source": [
        "def process(src_path, dst_path):\n",
        "  data = pd.read_csv(src_path + 'yoochoose-clicks.dat', sep=',', header=None, usecols=[0,1,2], dtype={0:np.int32, 1:str, 2:np.int64})\n",
        "  data.columns = ['SessionId', 'TimeStr', 'ItemId']\n",
        "\n",
        "  # Add timestamp\n",
        "  data['Time'] = data.TimeStr.apply(lambda x: dt.datetime.strptime(x, '%Y-%m-%dT%H:%M:%S.%fZ').timestamp())\n",
        "  del(data['TimeStr'])\n",
        "\n",
        "  # Filter by session size > 1\n",
        "  session_lengths = data.groupby('SessionId').size()  \n",
        "  data = data[np.in1d(data.SessionId, session_lengths[session_lengths>1].index)]\n",
        "  \n",
        "  # Filter by \"known\" (appears >= 5) items\n",
        "  item_supports = data.groupby('ItemId').size()\n",
        "  data = data[np.in1d(data.ItemId, item_supports[item_supports>=5].index)]\n",
        "  \n",
        "  # Filter by session size > 2\n",
        "  session_lengths = data.groupby('SessionId').size()\n",
        "  data = data[np.in1d(data.SessionId, session_lengths[session_lengths>=2].index)]\n",
        "\n",
        "  # Test split is entire last day\n",
        "  tmax = data.Time.max()\n",
        "  session_max_times = data.groupby('SessionId').Time.max()\n",
        "  \n",
        "  session_train = session_max_times[session_max_times < tmax-86400].index\n",
        "  train = data[np.in1d(data.SessionId, session_train)]\n",
        "  \n",
        "  session_test = session_max_times[session_max_times >= tmax-86400].index\n",
        "  test = data[np.in1d(data.SessionId, session_test)]\n",
        "  test = test[np.in1d(test.ItemId, train.ItemId)]\n",
        "  tslength = test.groupby('SessionId').size()\n",
        "  test = test[np.in1d(test.SessionId, tslength[tslength>=2].index)]\n",
        "  print('Test set\\n\\tEvents: {}\\n\\tSessions: {}\\n\\tItems: {}'.format(len(test), test.SessionId.nunique(), test.ItemId.nunique()))\n",
        "  test.to_csv(dst_path + 'test.tsv', sep='\\t', index=False)\n",
        "\n",
        "  # Validation: second to last day. Train: remainder\n",
        "  tmax = train.Time.max()\n",
        "  session_max_times = train.groupby('SessionId').Time.max()\n",
        "  session_train = session_max_times[session_max_times < tmax-86400].index\n",
        "  session_valid = session_max_times[session_max_times >= tmax-86400].index\n",
        "\n",
        "  train_tr = train[np.in1d(train.SessionId, session_train)]\n",
        "  valid = train[np.in1d(train.SessionId, session_valid)]\n",
        "  valid = valid[np.in1d(valid.ItemId, train_tr.ItemId)]\n",
        "  tslength = valid.groupby('SessionId').size()\n",
        "  valid = valid[np.in1d(valid.SessionId, tslength[tslength>=2].index)]\n",
        "  print('Validation set\\n\\tEvents: {}\\n\\tSessions: {}\\n\\tItems: {}'.format(len(valid), valid.SessionId.nunique(), valid.ItemId.nunique()))\n",
        "  valid.to_csv(dst_path + 'validation.tsv', sep='\\t', index=False)\n",
        "  \n",
        "  \n",
        "  print('Train set\\n\\tEvents: {}\\n\\tSessions: {}\\n\\tItems: {}'.format(len(train_tr), train_tr.SessionId.nunique(), train_tr.ItemId.nunique()))\n",
        "  train_tr.to_csv(dst_path + 'train.tsv', sep='\\t', index=False)\n"
      ],
      "execution_count": 6,
      "outputs": []
    },
    {
      "cell_type": "code",
      "metadata": {
        "id": "nc6wy4phS1v2",
        "outputId": "b8bc5e03-adcd-4aad-8f97-f0d6596f21f9",
        "colab": {
          "base_uri": "https://localhost:8080/",
          "height": 218
        }
      },
      "source": [
        "process(src_path, dst_path)  # Takes ~10 minutes"
      ],
      "execution_count": 7,
      "outputs": [
        {
          "output_type": "stream",
          "text": [
            "Test set\n",
            "\tEvents: 71222\n",
            "\tSessions: 15324\n",
            "\tItems: 6751\n",
            "Validation set\n",
            "\tEvents: 58233\n",
            "\tSessions: 12372\n",
            "\tItems: 6359\n",
            "Train set\n",
            "\tEvents: 31579006\n",
            "\tSessions: 7953885\n",
            "\tItems: 37483\n"
          ],
          "name": "stdout"
        }
      ]
    },
    {
      "cell_type": "code",
      "metadata": {
        "id": "kx_HdipUDS2z"
      },
      "source": [
        "def train_fraction(df, fraction, prefix=\"train\", path=\"./data/\"):\n",
        "    \n",
        "    length = len(df['ItemId'])\n",
        "    first_session = df.iloc[length - length//fraction].SessionId\n",
        "    df = df.loc[df['SessionId'] >= first_session]\n",
        "    itemids = df['ItemId'].unique()\n",
        "    n_items = len(itemids)\n",
        "\n",
        "    print('Fractioned data set\\n\\tEvents: {}\\n\\tSessions: {}\\n\\tItems: {}'.format(len(df), df.SessionId.nunique(), df.ItemId.nunique()))\n",
        "    filename = path + '{}_{}.tsv'.format(prefix, fraction)\n",
        "    df.to_csv(filename, sep='\\t', index=False)\n",
        "    print(\"Saved as {}\".format(filename))"
      ],
      "execution_count": 8,
      "outputs": []
    },
    {
      "cell_type": "code",
      "metadata": {
        "id": "4r1tWG1gh7eX",
        "outputId": "09360123-e36e-4b08-954c-5e44e569ec39",
        "colab": {
          "base_uri": "https://localhost:8080/",
          "height": 101
        }
      },
      "source": [
        "# Obtain most recent 1/nth fraction of train for demo purposes\n",
        "fraction = 64\n",
        "train = pd.read_csv(dst_path + 'train.tsv', sep='\\t', dtype={'ItemId':np.int64})\n",
        "train_fraction(train, fraction)\n"
      ],
      "execution_count": 9,
      "outputs": [
        {
          "output_type": "stream",
          "text": [
            "Fractioned data set\n",
            "\tEvents: 71391\n",
            "\tSessions: 17450\n",
            "\tItems: 8724\n",
            "Saved as ./data/train_64.tsv\n"
          ],
          "name": "stdout"
        }
      ]
    },
    {
      "cell_type": "markdown",
      "metadata": {
        "id": "ZWgvazVufHs6"
      },
      "source": [
        "# Entrenamiento"
      ]
    },
    {
      "cell_type": "code",
      "metadata": {
        "id": "PSPwVh4AS_GW",
        "outputId": "90a0ea4c-c323-4382-ce2b-b26b03b8fa94",
        "colab": {
          "base_uri": "https://localhost:8080/",
          "height": 1000
        }
      },
      "source": [
        "!python src/model/gru4rec.py --epochs 200 --train-path ./data/train_64.tsv --dev-path ./data/validation.tsv --test-path ./data/test.tsv"
      ],
      "execution_count": 10,
      "outputs": [
        {
          "output_type": "stream",
          "text": [
            "Model: \"functional_1\"\n",
            "_________________________________________________________________\n",
            "Layer (type)                 Output Shape              Param #   \n",
            "=================================================================\n",
            "input_1 (InputLayer)         [(512, 1, 8725)]          0         \n",
            "_________________________________________________________________\n",
            "GRU (GRU)                    [(512, 100), (512, 100)]  2648100   \n",
            "_________________________________________________________________\n",
            "dropout (Dropout)            (512, 100)                0         \n",
            "_________________________________________________________________\n",
            "dense (Dense)                (512, 8725)               881225    \n",
            "=================================================================\n",
            "Total params: 3,529,325\n",
            "Trainable params: 3,529,325\n",
            "Non-trainable params: 0\n",
            "_________________________________________________________________\n",
            "Epoch 1. Loss: 8.35590:  97% 16929/17451 [00:12<00:00, 1326.04it/s]\n",
            "Epoch 2. Loss: 7.89026:  97% 16929/17451 [00:05<00:00, 3191.77it/s]\n",
            "Epoch 3. Loss: 7.63149:  97% 16929/17451 [00:05<00:00, 3168.15it/s]\n",
            "Epoch 4. Loss: 7.40393:  97% 16929/17451 [00:05<00:00, 3164.07it/s]\n",
            "Epoch 5. Loss: 7.27913:  97% 16929/17451 [00:05<00:00, 3123.93it/s]\n",
            "Epoch 6. Loss: 7.16446:  97% 16929/17451 [00:05<00:00, 3174.20it/s]\n",
            "Epoch 7. Loss: 7.03512:  97% 16929/17451 [00:05<00:00, 3172.12it/s]\n",
            "Epoch 8. Loss: 6.86357:  97% 16929/17451 [00:05<00:00, 3182.04it/s]\n",
            "Epoch 9. Loss: 6.67963:  97% 16929/17451 [00:05<00:00, 3182.71it/s]\n",
            "Epoch 10. Loss: 6.49863:  97% 16929/17451 [00:05<00:00, 3168.00it/s]\n",
            "Epoch 11. Loss: 6.28636:  97% 16929/17451 [00:05<00:00, 3201.48it/s]\n",
            "Epoch 12. Loss: 6.10462:  97% 16929/17451 [00:05<00:00, 3187.09it/s]\n",
            "Epoch 13. Loss: 5.93359:  97% 16929/17451 [00:05<00:00, 3191.84it/s]\n",
            "Epoch 14. Loss: 5.77656:  97% 16929/17451 [00:05<00:00, 3177.40it/s]\n",
            "Epoch 15. Loss: 5.61062:  97% 16929/17451 [00:05<00:00, 3171.75it/s]\n",
            "Epoch 16. Loss: 5.44516:  97% 16929/17451 [00:05<00:00, 3188.04it/s]\n",
            "Epoch 17. Loss: 5.28727:  97% 16929/17451 [00:05<00:00, 3192.36it/s]\n",
            "Epoch 18. Loss: 5.16655:  97% 16929/17451 [00:05<00:00, 3167.56it/s]\n",
            "Epoch 19. Loss: 5.00401:  97% 16929/17451 [00:05<00:00, 3173.19it/s]\n",
            "Epoch 20. Loss: 4.89045:  97% 16929/17451 [00:05<00:00, 3135.72it/s]\n",
            "Epoch 21. Loss: 4.72101:  97% 16929/17451 [00:05<00:00, 3136.47it/s]\n",
            "Epoch 22. Loss: 4.59340:  97% 16929/17451 [00:05<00:00, 3190.15it/s]\n",
            "Epoch 23. Loss: 4.50493:  97% 16929/17451 [00:05<00:00, 3182.31it/s]\n",
            "Epoch 24. Loss: 4.39691:  97% 16929/17451 [00:05<00:00, 3172.66it/s]\n",
            "Epoch 25. Loss: 4.22889:  97% 16929/17451 [00:05<00:00, 3164.77it/s]\n",
            "Epoch 26. Loss: 4.15107:  97% 16929/17451 [00:05<00:00, 3195.86it/s]\n",
            "Epoch 27. Loss: 4.02147:  97% 16929/17451 [00:05<00:00, 3184.17it/s]\n",
            "Epoch 28. Loss: 3.92654:  97% 16929/17451 [00:05<00:00, 3180.33it/s]\n",
            "Epoch 29. Loss: 3.80083:  97% 16929/17451 [00:05<00:00, 3168.74it/s]\n",
            "Epoch 30. Loss: 3.73690:  97% 16929/17451 [00:05<00:00, 3210.45it/s]\n",
            "Epoch 31. Loss: 3.63480:  97% 16929/17451 [00:05<00:00, 3193.86it/s]\n",
            "Epoch 32. Loss: 3.51583:  97% 16929/17451 [00:05<00:00, 3160.34it/s]\n",
            "Epoch 33. Loss: 3.40058:  97% 16929/17451 [00:05<00:00, 3150.10it/s]\n",
            "Epoch 34. Loss: 3.35428:  97% 16929/17451 [00:05<00:00, 3132.71it/s]\n",
            "Epoch 35. Loss: 3.32130:  97% 16929/17451 [00:05<00:00, 3159.71it/s]\n",
            "Epoch 36. Loss: 3.20943:  97% 16929/17451 [00:05<00:00, 3167.54it/s]\n",
            "Epoch 37. Loss: 3.14774:  97% 16929/17451 [00:05<00:00, 3192.32it/s]\n",
            "Epoch 38. Loss: 3.10217:  97% 16929/17451 [00:05<00:00, 3204.64it/s]\n",
            "Epoch 39. Loss: 2.99575:  97% 16929/17451 [00:05<00:00, 3169.93it/s]\n",
            "Epoch 40. Loss: 2.96409:  97% 16929/17451 [00:05<00:00, 3193.69it/s]\n",
            "Epoch 41. Loss: 2.86157:  97% 16929/17451 [00:05<00:00, 3184.78it/s]\n",
            "Epoch 42. Loss: 2.81174:  97% 16929/17451 [00:05<00:00, 3195.16it/s]\n",
            "Epoch 43. Loss: 2.80474:  97% 16929/17451 [00:05<00:00, 3207.39it/s]\n",
            "Epoch 44. Loss: 2.73381:  97% 16929/17451 [00:05<00:00, 3198.97it/s]\n",
            "Epoch 45. Loss: 2.68848:  97% 16929/17451 [00:05<00:00, 3191.91it/s]\n",
            "Epoch 46. Loss: 2.66355:  97% 16929/17451 [00:05<00:00, 3184.68it/s]\n",
            "Epoch 47. Loss: 2.54651:  97% 16929/17451 [00:05<00:00, 3199.36it/s]\n",
            "Epoch 48. Loss: 2.59252:  97% 16929/17451 [00:05<00:00, 3171.09it/s]\n",
            "Epoch 49. Loss: 2.57823:  97% 16929/17451 [00:05<00:00, 3167.30it/s]\n",
            "Epoch 50. Loss: 2.52336:  97% 16929/17451 [00:05<00:00, 3191.31it/s]\n",
            "Epoch 51. Loss: 2.49642:  97% 16929/17451 [00:05<00:00, 3188.22it/s]\n",
            "Epoch 52. Loss: 2.48062:  97% 16929/17451 [00:05<00:00, 3183.70it/s]\n",
            "Epoch 53. Loss: 2.42186:  97% 16929/17451 [00:05<00:00, 3181.43it/s]\n",
            "Epoch 54. Loss: 2.44270:  97% 16929/17451 [00:05<00:00, 3155.29it/s]\n",
            "Epoch 55. Loss: 2.38597:  97% 16929/17451 [00:05<00:00, 3163.42it/s]\n",
            "Epoch 56. Loss: 2.39034:  97% 16929/17451 [00:05<00:00, 3176.00it/s]\n",
            "Epoch 57. Loss: 2.33678:  97% 16929/17451 [00:05<00:00, 3212.38it/s]\n",
            "Epoch 58. Loss: 2.33569:  97% 16929/17451 [00:05<00:00, 3186.23it/s]\n",
            "Epoch 59. Loss: 2.34234:  97% 16929/17451 [00:05<00:00, 3183.21it/s]\n",
            "Epoch 60. Loss: 2.26221:  97% 16929/17451 [00:05<00:00, 3191.56it/s]\n",
            "Epoch 61. Loss: 2.33010:  97% 16929/17451 [00:05<00:00, 3163.24it/s]\n",
            "Epoch 62. Loss: 2.27313:  97% 16929/17451 [00:05<00:00, 3168.32it/s]\n",
            "Epoch 63. Loss: 2.25148:  97% 16929/17451 [00:05<00:00, 3172.77it/s]\n",
            "Epoch 64. Loss: 2.23770:  97% 16929/17451 [00:05<00:00, 3186.02it/s]\n",
            "Epoch 65. Loss: 2.23091:  97% 16929/17451 [00:05<00:00, 3190.94it/s]\n",
            "Epoch 66. Loss: 2.21458:  97% 16929/17451 [00:05<00:00, 3199.21it/s]\n",
            "Epoch 67. Loss: 2.21532:  97% 16929/17451 [00:05<00:00, 3186.69it/s]\n",
            "Epoch 68. Loss: 2.18362:  97% 16929/17451 [00:05<00:00, 3176.74it/s]\n",
            "Epoch 69. Loss: 2.15069:  97% 16929/17451 [00:05<00:00, 3164.71it/s]\n",
            "Epoch 70. Loss: 2.16230:  97% 16929/17451 [00:05<00:00, 3164.35it/s]\n",
            "Epoch 71. Loss: 2.10096:  97% 16929/17451 [00:05<00:00, 3178.26it/s]\n",
            "Epoch 72. Loss: 2.18834:  97% 16929/17451 [00:05<00:00, 3204.45it/s]\n",
            "Epoch 73. Loss: 2.11958:  97% 16929/17451 [00:05<00:00, 3182.85it/s]\n",
            "Epoch 74. Loss: 2.15696:  97% 16929/17451 [00:05<00:00, 3200.72it/s]\n",
            "Epoch 75. Loss: 2.14414:  97% 16929/17451 [00:05<00:00, 3172.37it/s]\n",
            "Epoch 76. Loss: 2.08669:  97% 16929/17451 [00:05<00:00, 3176.85it/s]\n",
            "Epoch 77. Loss: 2.04026:  97% 16929/17451 [00:05<00:00, 3173.38it/s]\n",
            "Epoch 78. Loss: 2.09847:  97% 16929/17451 [00:05<00:00, 3094.87it/s]\n",
            "Epoch 79. Loss: 2.06586:  97% 16929/17451 [00:05<00:00, 3108.51it/s]\n",
            "Epoch 80. Loss: 2.07240:  97% 16929/17451 [00:05<00:00, 3188.46it/s]\n",
            "Epoch 81. Loss: 2.01303:  97% 16929/17451 [00:05<00:00, 3179.44it/s]\n",
            "Epoch 82. Loss: 2.00906:  97% 16929/17451 [00:05<00:00, 3195.88it/s]\n",
            "Epoch 83. Loss: 2.05664:  97% 16929/17451 [00:05<00:00, 3175.94it/s]\n",
            "Epoch 84. Loss: 2.03718:  97% 16929/17451 [00:05<00:00, 3192.76it/s]\n",
            "Epoch 85. Loss: 2.01766:  97% 16929/17451 [00:05<00:00, 3173.34it/s]\n",
            "Epoch 86. Loss: 2.01635:  97% 16929/17451 [00:05<00:00, 3189.80it/s]\n",
            "Epoch 87. Loss: 2.00543:  97% 16929/17451 [00:05<00:00, 3184.98it/s]\n",
            "Epoch 88. Loss: 1.94570:  97% 16929/17451 [00:05<00:00, 3210.40it/s]\n",
            "Epoch 89. Loss: 1.94336:  97% 16929/17451 [00:05<00:00, 3175.55it/s]\n",
            "Epoch 90. Loss: 1.97640:  97% 16929/17451 [00:05<00:00, 3207.24it/s]\n",
            "Epoch 91. Loss: 1.96397:  97% 16929/17451 [00:05<00:00, 3168.86it/s]\n",
            "Epoch 92. Loss: 1.96846:  97% 16929/17451 [00:05<00:00, 3195.08it/s]\n",
            "Epoch 93. Loss: 1.98971:  97% 16929/17451 [00:05<00:00, 3195.34it/s]\n",
            "Epoch 94. Loss: 1.96286:  97% 16929/17451 [00:05<00:00, 3166.09it/s]\n",
            "Epoch 95. Loss: 1.92905:  97% 16929/17451 [00:05<00:00, 3187.93it/s]\n",
            "Epoch 96. Loss: 1.85376:  97% 16929/17451 [00:05<00:00, 3194.82it/s]\n",
            "Epoch 97. Loss: 1.89628:  97% 16929/17451 [00:05<00:00, 3199.05it/s]\n",
            "Epoch 98. Loss: 1.84344:  97% 16929/17451 [00:05<00:00, 3186.42it/s]\n",
            "Epoch 99. Loss: 1.90686:  97% 16929/17451 [00:05<00:00, 3190.58it/s]\n",
            "Epoch 100. Loss: 1.92840:  97% 16929/17451 [00:05<00:00, 3182.16it/s]\n",
            "Epoch 101. Loss: 1.93128:  97% 16929/17451 [00:05<00:00, 3186.17it/s]\n",
            "Epoch 102. Loss: 1.84212:  97% 16929/17451 [00:05<00:00, 3213.58it/s]\n",
            "Epoch 103. Loss: 1.89808:  97% 16929/17451 [00:05<00:00, 3202.21it/s]\n",
            "Epoch 104. Loss: 1.85126:  97% 16929/17451 [00:05<00:00, 3189.29it/s]\n",
            "Epoch 105. Loss: 1.85221:  97% 16929/17451 [00:05<00:00, 3184.55it/s]\n",
            "Epoch 106. Loss: 1.87655:  97% 16929/17451 [00:05<00:00, 3142.66it/s]\n",
            "Epoch 107. Loss: 1.84094:  97% 16929/17451 [00:05<00:00, 3149.83it/s]\n",
            "Epoch 108. Loss: 1.81560:  97% 16929/17451 [00:05<00:00, 3130.78it/s]\n",
            "Epoch 109. Loss: 1.87144:  97% 16929/17451 [00:05<00:00, 3177.41it/s]\n",
            "Epoch 110. Loss: 1.87043:  97% 16929/17451 [00:05<00:00, 3194.08it/s]\n",
            "Epoch 111. Loss: 1.87690:  97% 16929/17451 [00:05<00:00, 3189.69it/s]\n",
            "Epoch 112. Loss: 1.82177:  97% 16929/17451 [00:05<00:00, 3181.73it/s]\n",
            "Epoch 113. Loss: 1.83654:  97% 16929/17451 [00:05<00:00, 3175.04it/s]\n",
            "Epoch 114. Loss: 1.81762:  97% 16929/17451 [00:05<00:00, 3178.17it/s]\n",
            "Epoch 115. Loss: 1.83050:  97% 16929/17451 [00:05<00:00, 3155.07it/s]\n",
            "Epoch 116. Loss: 1.85380:  97% 16929/17451 [00:05<00:00, 3139.53it/s]\n",
            "Epoch 117. Loss: 1.77701:  97% 16929/17451 [00:05<00:00, 3166.43it/s]\n",
            "Epoch 118. Loss: 1.78327:  97% 16929/17451 [00:05<00:00, 3162.51it/s]\n",
            "Epoch 119. Loss: 1.78342:  97% 16929/17451 [00:05<00:00, 3155.65it/s]\n",
            "Epoch 120. Loss: 1.75806:  97% 16929/17451 [00:05<00:00, 3135.26it/s]\n",
            "Epoch 121. Loss: 1.78511:  97% 16929/17451 [00:05<00:00, 3163.18it/s]\n",
            "Epoch 122. Loss: 1.74901:  97% 16929/17451 [00:05<00:00, 3185.37it/s]\n",
            "Epoch 123. Loss: 1.81114:  97% 16929/17451 [00:05<00:00, 3174.70it/s]\n",
            "Epoch 124. Loss: 1.78349:  97% 16929/17451 [00:05<00:00, 3171.74it/s]\n",
            "Epoch 125. Loss: 1.78744:  97% 16929/17451 [00:05<00:00, 3147.04it/s]\n",
            "Epoch 126. Loss: 1.75246:  97% 16929/17451 [00:05<00:00, 3160.35it/s]\n",
            "Epoch 127. Loss: 1.76493:  97% 16929/17451 [00:05<00:00, 3161.76it/s]\n",
            "Epoch 128. Loss: 1.71623:  97% 16929/17451 [00:05<00:00, 3161.32it/s]\n",
            "Epoch 129. Loss: 1.75813:  97% 16929/17451 [00:05<00:00, 3128.73it/s]\n",
            "Epoch 130. Loss: 1.71785:  97% 16929/17451 [00:05<00:00, 3152.49it/s]\n",
            "Epoch 131. Loss: 1.76119:  97% 16929/17451 [00:05<00:00, 3142.44it/s]\n",
            "Epoch 132. Loss: 1.70907:  97% 16929/17451 [00:05<00:00, 3156.24it/s]\n",
            "Epoch 133. Loss: 1.77965:  97% 16929/17451 [00:05<00:00, 3176.17it/s]\n",
            "Epoch 134. Loss: 1.78735:  97% 16929/17451 [00:05<00:00, 3168.23it/s]\n",
            "Epoch 135. Loss: 1.72408:  97% 16929/17451 [00:05<00:00, 3161.42it/s]\n",
            "Epoch 136. Loss: 1.69337:  97% 16929/17451 [00:05<00:00, 3108.02it/s]\n",
            "Epoch 137. Loss: 1.72899:  97% 16929/17451 [00:05<00:00, 3085.06it/s]\n",
            "Epoch 138. Loss: 1.75051:  97% 16929/17451 [00:05<00:00, 3137.68it/s]\n",
            "Epoch 139. Loss: 1.70786:  97% 16929/17451 [00:05<00:00, 3170.23it/s]\n",
            "Epoch 140. Loss: 1.71578:  97% 16929/17451 [00:05<00:00, 3161.36it/s]\n",
            "Epoch 141. Loss: 1.69772:  97% 16929/17451 [00:05<00:00, 3156.82it/s]\n",
            "Epoch 142. Loss: 1.70328:  97% 16929/17451 [00:05<00:00, 3150.56it/s]\n",
            "Epoch 143. Loss: 1.72721:  97% 16929/17451 [00:05<00:00, 3164.72it/s]\n",
            "Epoch 144. Loss: 1.71525:  97% 16929/17451 [00:05<00:00, 3166.59it/s]\n",
            "Epoch 145. Loss: 1.68967:  97% 16929/17451 [00:05<00:00, 3146.67it/s]\n",
            "Epoch 146. Loss: 1.74986:  97% 16929/17451 [00:05<00:00, 3134.75it/s]\n",
            "Epoch 147. Loss: 1.68854:  97% 16929/17451 [00:05<00:00, 3165.48it/s]\n",
            "Epoch 148. Loss: 1.73392:  97% 16929/17451 [00:05<00:00, 3171.52it/s]\n",
            "Epoch 149. Loss: 1.68837:  97% 16929/17451 [00:05<00:00, 3156.05it/s]\n",
            "Epoch 150. Loss: 1.70525:  97% 16929/17451 [00:05<00:00, 3150.55it/s]\n",
            "Epoch 151. Loss: 1.69385:  97% 16929/17451 [00:05<00:00, 3154.02it/s]\n",
            "Epoch 152. Loss: 1.74780:  97% 16929/17451 [00:05<00:00, 3159.18it/s]\n",
            "Epoch 153. Loss: 1.71512:  97% 16929/17451 [00:05<00:00, 3157.86it/s]\n",
            "Epoch 154. Loss: 1.68365:  97% 16929/17451 [00:05<00:00, 3173.08it/s]\n",
            "Epoch 155. Loss: 1.67534:  97% 16929/17451 [00:05<00:00, 3164.05it/s]\n",
            "Epoch 156. Loss: 1.71949:  97% 16929/17451 [00:05<00:00, 3165.38it/s]\n",
            "Epoch 157. Loss: 1.66661:  97% 16929/17451 [00:05<00:00, 3188.59it/s]\n",
            "Epoch 158. Loss: 1.71482:  97% 16929/17451 [00:05<00:00, 3190.20it/s]\n",
            "Epoch 159. Loss: 1.64694:  97% 16929/17451 [00:05<00:00, 3167.12it/s]\n",
            "Epoch 160. Loss: 1.64459:  97% 16929/17451 [00:05<00:00, 3147.18it/s]\n",
            "Epoch 161. Loss: 1.68750:  97% 16929/17451 [00:05<00:00, 3177.66it/s]\n",
            "Epoch 162. Loss: 1.65746:  97% 16929/17451 [00:05<00:00, 3205.83it/s]\n",
            "Epoch 163. Loss: 1.66419:  97% 16929/17451 [00:05<00:00, 3187.02it/s]\n",
            "Epoch 164. Loss: 1.66726:  97% 16929/17451 [00:05<00:00, 3195.77it/s]\n",
            "Epoch 165. Loss: 1.68234:  97% 16929/17451 [00:05<00:00, 3189.46it/s]\n",
            "Epoch 166. Loss: 1.64634:  97% 16929/17451 [00:05<00:00, 3206.69it/s]\n",
            "Epoch 167. Loss: 1.67817:  97% 16929/17451 [00:05<00:00, 3178.71it/s]\n",
            "Epoch 168. Loss: 1.68812:  97% 16929/17451 [00:05<00:00, 3149.38it/s]\n",
            "Epoch 169. Loss: 1.66016:  97% 16929/17451 [00:05<00:00, 3164.25it/s]\n",
            "Epoch 170. Loss: 1.69082:  97% 16929/17451 [00:05<00:00, 3128.37it/s]\n",
            "Epoch 171. Loss: 1.64373:  97% 16929/17451 [00:05<00:00, 3194.16it/s]\n",
            "Epoch 172. Loss: 1.64712:  97% 16929/17451 [00:05<00:00, 3202.03it/s]\n",
            "Epoch 173. Loss: 1.69000:  97% 16929/17451 [00:05<00:00, 3170.04it/s]\n",
            "Epoch 174. Loss: 1.67863:  97% 16929/17451 [00:05<00:00, 3182.70it/s]\n",
            "Epoch 175. Loss: 1.64178:  97% 16929/17451 [00:05<00:00, 3185.59it/s]\n",
            "Epoch 176. Loss: 1.64062:  97% 16929/17451 [00:05<00:00, 3180.51it/s]\n",
            "Epoch 177. Loss: 1.59877:  97% 16929/17451 [00:05<00:00, 3159.52it/s]\n",
            "Epoch 178. Loss: 1.64497:  97% 16929/17451 [00:05<00:00, 3197.90it/s]\n",
            "Epoch 179. Loss: 1.65223:  97% 16929/17451 [00:05<00:00, 3182.08it/s]\n",
            "Epoch 180. Loss: 1.56288:  97% 16929/17451 [00:05<00:00, 3188.73it/s]\n",
            "Epoch 181. Loss: 1.58219:  97% 16929/17451 [00:05<00:00, 3179.18it/s]\n",
            "Epoch 182. Loss: 1.60806:  97% 16929/17451 [00:05<00:00, 3192.48it/s]\n",
            "Epoch 183. Loss: 1.61616:  97% 16929/17451 [00:05<00:00, 3168.49it/s]\n",
            "Epoch 184. Loss: 1.59767:  97% 16929/17451 [00:05<00:00, 3181.07it/s]\n",
            "Epoch 185. Loss: 1.68615:  97% 16929/17451 [00:05<00:00, 3174.79it/s]\n",
            "Epoch 186. Loss: 1.61309:  97% 16929/17451 [00:05<00:00, 3179.40it/s]\n",
            "Epoch 187. Loss: 1.65997:  97% 16929/17451 [00:05<00:00, 3198.45it/s]\n",
            "Epoch 188. Loss: 1.54865:  97% 16929/17451 [00:05<00:00, 3179.72it/s]\n",
            "Epoch 189. Loss: 1.57548:  97% 16929/17451 [00:05<00:00, 3182.13it/s]\n",
            "Epoch 190. Loss: 1.60121:  97% 16929/17451 [00:05<00:00, 3159.55it/s]\n",
            "Epoch 191. Loss: 1.56122:  97% 16929/17451 [00:05<00:00, 3172.70it/s]\n",
            "Epoch 192. Loss: 1.61158:  97% 16929/17451 [00:05<00:00, 3192.72it/s]\n",
            "Epoch 193. Loss: 1.60085:  97% 16929/17451 [00:05<00:00, 3170.93it/s]\n",
            "Epoch 194. Loss: 1.61308:  97% 16929/17451 [00:05<00:00, 3149.52it/s]\n",
            "Epoch 195. Loss: 1.54465:  97% 16929/17451 [00:05<00:00, 3103.94it/s]\n",
            "Epoch 196. Loss: 1.61600:  97% 16929/17451 [00:05<00:00, 3129.33it/s]\n",
            "Epoch 197. Loss: 1.59000:  97% 16929/17451 [00:05<00:00, 3173.98it/s]\n",
            "Epoch 198. Loss: 1.58555:  97% 16929/17451 [00:05<00:00, 3172.10it/s]\n",
            "Epoch 199. Loss: 1.55461:  97% 16929/17451 [00:05<00:00, 3188.97it/s]\n",
            "Evaluating model...\n",
            "\t - Recall@20 epoch 199: 0.449179\n",
            "\t - MRR@20    epoch 199: 0.155328\n",
            "\n"
          ],
          "name": "stdout"
        }
      ]
    },
    {
      "cell_type": "markdown",
      "metadata": {
        "id": "tk9EgsON-8Sr"
      },
      "source": [
        "## Resultados\n",
        "\n",
        "Luego de 200 épocas, deberías obtener un desempeño similar al siguiente:\n",
        "\n",
        "\t - Recall@20: 0.47\n",
        "\t - MRR@20   : 0.16\n",
        "\n",
        "\n",
        "Para replicar resultados del paper, utiliza el set de entrenamiento completo"
      ]
    },
    {
      "cell_type": "markdown",
      "metadata": {
        "id": "njfQIzqi_KK8"
      },
      "source": [
        "## Aprovechando información implícita: Dwell Time\n",
        "\n",
        "Podemos utilizar el tiempo que cada item fue visitado por cada usuario para realizar mejores recomendaciones.\n",
        "\n",
        "El supuesto es: a mayor tiempo de permanencia (dwell time) en un item, más interesado está el usuario en dicho item.\n",
        "\n",
        "Se hará item boosting en el set de entrenamiento."
      ]
    },
    {
      "cell_type": "code",
      "metadata": {
        "id": "lh9fruDcuVYg"
      },
      "source": [
        "def preprocess_df(df):    \n",
        "    n_items = len(df['ItemId'].unique())\n",
        "    aux = list(df['ItemId'].unique())\n",
        "    itemids = np.array(aux)\n",
        "    itemidmap = pd.Series(data=np.arange(n_items), index=itemids)  # (id_item => (0, n_items))\n",
        "    \n",
        "    item_key = 'ItemId'\n",
        "    session_key = 'SessionId'\n",
        "    time_key = 'Time'\n",
        "    \n",
        "    data = pd.merge(df, pd.DataFrame({item_key:itemids, 'ItemIdx':itemidmap[itemids].values}), on=item_key, how='inner')\n",
        "    data.sort_values([session_key, time_key], inplace=True)\n",
        "\n",
        "    length = len(data['ItemId'])\n",
        "        \n",
        "    return data"
      ],
      "execution_count": 11,
      "outputs": []
    },
    {
      "cell_type": "code",
      "metadata": {
        "id": "j5O-1YDR_vNY"
      },
      "source": [
        "def compute_dwell_time(df):\n",
        "    times_t = np.roll(df['Time'], -1) # Take time row\n",
        "    times_dt  = df['Time']            # Copy, then displace by one\n",
        "    diffs = np.subtract(times_t, times_dt) # Take pairwise difference\n",
        "    length = len(df['ItemId'])\n",
        "    \n",
        "    # cummulative offset start for each session\n",
        "    offset_sessions = np.zeros(df['SessionId'].nunique()+1, dtype=np.int32)\n",
        "    offset_sessions[1:] = df.groupby('SessionId').size().cumsum() \n",
        "    offset_sessions = offset_sessions - 1\n",
        "    offset_sessions = np.roll(offset_sessions, -1)\n",
        "    \n",
        "    np.put(diffs.values, offset_sessions, np.zeros((offset_sessions.shape)), mode='raise')\n",
        "\n",
        "    return diffs"
      ],
      "execution_count": 12,
      "outputs": []
    },
    {
      "cell_type": "code",
      "metadata": {
        "id": "7vFvOPH9Bfeq"
      },
      "source": [
        "def get_distribution(dts):\n",
        "    filtered = np.array(list(filter(lambda x: int(x) != 0, dts)))\n",
        "    pd_dts = pd.DataFrame(filtered)\n",
        "    pd_dts.boxplot(vert=False, showfliers=False)\n",
        "    plt.xlabel(\"Seconds\")\n",
        "    plt.yticks([])\n",
        "    plt.title(\"Dwell time distribution for RSC15 dataset\")\n",
        "    plt.show()\n",
        "    pd_dts.describe()"
      ],
      "execution_count": 13,
      "outputs": []
    },
    {
      "cell_type": "code",
      "metadata": {
        "id": "pPxWD0xPBfVE"
      },
      "source": [
        "def join_dwell_reps(df, dt, threshold=2000):\n",
        "    # Calculate d_ti/threshold + 1 then add column to dataFrame\n",
        "    dt //= threshold\n",
        "    dt += 1   \n",
        "    df['DwellReps'] = pd.Series(dt.astype(np.int64), index=dt.index)"
      ],
      "execution_count": 14,
      "outputs": []
    },
    {
      "cell_type": "code",
      "metadata": {
        "id": "jYX1RjhQ_wZG"
      },
      "source": [
        "def augment(df):    \n",
        "    col_names = list(df.columns.values)[:3]\n",
        "    augmented = np.repeat(df.values, df['DwellReps'], axis=0) \n",
        "    augmented = pd.DataFrame(data=augmented[:,:3],\n",
        "                             columns=col_names)\n",
        "    dtype = {'SessionId': np.int64, \n",
        "             'ItemId': np.int64, \n",
        "             'Time': np.float32}\n",
        "    \n",
        "    for k, v in dtype.items():\n",
        "        augmented[k] = augmented[k].astype(v)                  \n",
        "    \n",
        "    return augmented"
      ],
      "execution_count": 15,
      "outputs": []
    },
    {
      "cell_type": "code",
      "metadata": {
        "id": "veILDG2X_yJm"
      },
      "source": [
        "new_df = preprocess_df(train)\n",
        "dts = compute_dwell_time(new_df)"
      ],
      "execution_count": 16,
      "outputs": []
    },
    {
      "cell_type": "code",
      "metadata": {
        "id": "7xIJMF5aABmF",
        "outputId": "591b3249-ba1f-42bd-b1bd-74711cd59c73",
        "colab": {
          "base_uri": "https://localhost:8080/",
          "height": 295
        }
      },
      "source": [
        "# Visualize\n",
        "get_distribution(dts)"
      ],
      "execution_count": 17,
      "outputs": [
        {
          "output_type": "display_data",
          "data": {
            "image/png": "[encoded data removed]",
            "text/plain": [
              "<Figure size 432x288 with 1 Axes>"
            ]
          },
          "metadata": {
            "tags": [],
            "needs_background": "light"
          }
        }
      ]
    },
    {
      "cell_type": "code",
      "metadata": {
        "id": "Y4mZ3YB0Ai4q"
      },
      "source": [
        "# threshold is a hyperparameter\n",
        "join_dwell_reps(new_df, dts, threshold=75)\n",
        "\n",
        "# augment the sessions copying each entry an additional (dwellReps[i]-1) times\n",
        "df_aug = augment(new_df)\n",
        "df_aug.to_csv(\"./data/augmented_train.csv\", index=False, sep='\\t')"
      ],
      "execution_count": 18,
      "outputs": []
    },
    {
      "cell_type": "code",
      "metadata": {
        "id": "X1N36STyCrrs",
        "outputId": "9e075d3d-88a3-45b9-d628-02a3aa9366aa",
        "colab": {
          "base_uri": "https://localhost:8080/",
          "height": 101
        }
      },
      "source": [
        "# retrieve 1/n most recent fraction for demo purposes \n",
        "# (note it is a smaller fraction due to the inflation process)\n",
        "fraction = 64*7\n",
        "train_fraction(df_aug, fraction, prefix='aug_train')"
      ],
      "execution_count": 19,
      "outputs": [
        {
          "output_type": "stream",
          "text": [
            "Fractioned data set\n",
            "\tEvents: 151923\n",
            "\tSessions: 16351\n",
            "\tItems: 8484\n",
            "Saved as ./data/aug_train_448.tsv\n"
          ],
          "name": "stdout"
        }
      ]
    },
    {
      "cell_type": "markdown",
      "metadata": {
        "id": "v2E2q1ArD5Sr"
      },
      "source": [
        "## Entrenamiento con Dwell Time"
      ]
    },
    {
      "cell_type": "code",
      "metadata": {
        "id": "HNq8lpRADWZ2",
        "outputId": "1cfdb044-1648-4d9d-8685-52eafaada7c1",
        "colab": {
          "base_uri": "https://localhost:8080/",
          "height": 1000
        }
      },
      "source": [
        "!python src/model/gru4rec.py --epochs 200 --train-path ./data/aug_train_448.tsv --dev-path ./data/validation.tsv --test-path ./data/test.tsv"
      ],
      "execution_count": 20,
      "outputs": [
        {
          "output_type": "stream",
          "text": [
            "Model: \"functional_1\"\n",
            "_________________________________________________________________\n",
            "Layer (type)                 Output Shape              Param #   \n",
            "=================================================================\n",
            "input_1 (InputLayer)         [(512, 1, 8485)]          0         \n",
            "_________________________________________________________________\n",
            "GRU (GRU)                    [(512, 100), (512, 100)]  2576100   \n",
            "_________________________________________________________________\n",
            "dropout (Dropout)            (512, 100)                0         \n",
            "_________________________________________________________________\n",
            "dense (Dense)                (512, 8485)               856985    \n",
            "=================================================================\n",
            "Total params: 3,433,085\n",
            "Trainable params: 3,433,085\n",
            "Non-trainable params: 0\n",
            "_________________________________________________________________\n",
            "Epoch 1. Loss: 7.63209:  97% 15835/16352 [00:20<00:00, 772.91it/s] \n",
            "Epoch 2. Loss: 6.85688:  97% 15835/16352 [00:13<00:00, 1217.16it/s]\n",
            "Epoch 3. Loss: 5.91601:  97% 15835/16352 [00:13<00:00, 1214.67it/s]\n",
            "Epoch 4. Loss: 5.05054:  97% 15835/16352 [00:13<00:00, 1210.51it/s]\n",
            "Epoch 5. Loss: 4.53500:  97% 15835/16352 [00:12<00:00, 1219.47it/s]\n",
            "Epoch 6. Loss: 4.03747:  97% 15835/16352 [00:13<00:00, 1213.68it/s]\n",
            "Epoch 7. Loss: 3.66696:  97% 15835/16352 [00:13<00:00, 1208.50it/s]\n",
            "Epoch 8. Loss: 3.39621:  97% 15835/16352 [00:13<00:00, 1214.58it/s]\n",
            "Epoch 9. Loss: 3.12972:  97% 15835/16352 [00:12<00:00, 1219.97it/s]\n",
            "Epoch 10. Loss: 2.85692:  97% 15835/16352 [00:13<00:00, 1213.75it/s]\n",
            "Epoch 11. Loss: 2.73059:  97% 15835/16352 [00:12<00:00, 1221.56it/s]\n",
            "Epoch 12. Loss: 2.57313:  97% 15835/16352 [00:12<00:00, 1221.84it/s]\n",
            "Epoch 13. Loss: 2.46664:  97% 15835/16352 [00:12<00:00, 1219.16it/s]\n",
            "Epoch 14. Loss: 2.36188:  97% 15835/16352 [00:12<00:00, 1223.79it/s]\n",
            "Epoch 15. Loss: 2.23127:  97% 15835/16352 [00:12<00:00, 1219.88it/s]\n",
            "Epoch 16. Loss: 2.13675:  97% 15835/16352 [00:12<00:00, 1221.34it/s]\n",
            "Epoch 17. Loss: 2.04709:  97% 15835/16352 [00:12<00:00, 1218.72it/s]\n",
            "Epoch 18. Loss: 2.01824:  97% 15835/16352 [00:12<00:00, 1225.81it/s]\n",
            "Epoch 19. Loss: 1.94607:  97% 15835/16352 [00:12<00:00, 1220.25it/s]\n",
            "Epoch 20. Loss: 1.84959:  97% 15835/16352 [00:13<00:00, 1202.95it/s]\n",
            "Epoch 21. Loss: 1.79430:  97% 15835/16352 [00:12<00:00, 1222.96it/s]\n",
            "Epoch 22. Loss: 1.76655:  97% 15835/16352 [00:12<00:00, 1223.30it/s]\n",
            "Epoch 23. Loss: 1.73357:  97% 15835/16352 [00:12<00:00, 1226.69it/s]\n",
            "Epoch 24. Loss: 1.68545:  97% 15835/16352 [00:12<00:00, 1229.86it/s]\n",
            "Epoch 25. Loss: 1.66127:  97% 15835/16352 [00:12<00:00, 1229.57it/s]\n",
            "Epoch 26. Loss: 1.61735:  97% 15835/16352 [00:12<00:00, 1225.34it/s]\n",
            "Epoch 27. Loss: 1.61369:  97% 15835/16352 [00:12<00:00, 1226.34it/s]\n",
            "Epoch 28. Loss: 1.57685:  97% 15835/16352 [00:12<00:00, 1221.50it/s]\n",
            "Epoch 29. Loss: 1.53193:  97% 15835/16352 [00:12<00:00, 1224.36it/s]\n",
            "Epoch 30. Loss: 1.49732:  97% 15835/16352 [00:12<00:00, 1227.53it/s]\n",
            "Epoch 31. Loss: 1.45965:  97% 15835/16352 [00:12<00:00, 1221.70it/s]\n",
            "Epoch 32. Loss: 1.43764:  97% 15835/16352 [00:12<00:00, 1225.74it/s]\n",
            "Epoch 33. Loss: 1.39407:  97% 15835/16352 [00:12<00:00, 1223.57it/s]\n",
            "Epoch 34. Loss: 1.37431:  97% 15835/16352 [00:12<00:00, 1227.50it/s]\n",
            "Epoch 35. Loss: 1.39383:  97% 15835/16352 [00:12<00:00, 1226.21it/s]\n",
            "Epoch 36. Loss: 1.35075:  97% 15835/16352 [00:12<00:00, 1225.81it/s]\n",
            "Epoch 37. Loss: 1.33860:  97% 15835/16352 [00:12<00:00, 1227.17it/s]\n",
            "Epoch 38. Loss: 1.34661:  97% 15835/16352 [00:12<00:00, 1228.55it/s]\n",
            "Epoch 39. Loss: 1.32280:  97% 15835/16352 [00:12<00:00, 1225.15it/s]\n",
            "Epoch 40. Loss: 1.29082:  97% 15835/16352 [00:12<00:00, 1229.45it/s]\n",
            "Epoch 41. Loss: 1.36209:  97% 15835/16352 [00:12<00:00, 1228.03it/s]\n",
            "Epoch 42. Loss: 1.33639:  97% 15835/16352 [00:12<00:00, 1227.62it/s]\n",
            "Epoch 43. Loss: 1.29685:  97% 15835/16352 [00:12<00:00, 1229.75it/s]\n",
            "Epoch 44. Loss: 1.29250:  97% 15835/16352 [00:12<00:00, 1218.19it/s]\n",
            "Epoch 45. Loss: 1.27714:  97% 15835/16352 [00:12<00:00, 1223.65it/s]\n",
            "Epoch 46. Loss: 1.27826:  97% 15835/16352 [00:12<00:00, 1229.29it/s]\n",
            "Epoch 47. Loss: 1.30370:  97% 15835/16352 [00:12<00:00, 1221.84it/s]\n",
            "Epoch 48. Loss: 1.22235:  97% 15835/16352 [00:12<00:00, 1229.75it/s]\n",
            "Epoch 49. Loss: 1.26582:  97% 15835/16352 [00:12<00:00, 1226.08it/s]\n",
            "Epoch 50. Loss: 1.22458:  97% 15835/16352 [00:12<00:00, 1234.31it/s]\n",
            "Epoch 51. Loss: 1.19801:  97% 15835/16352 [00:12<00:00, 1239.19it/s]\n",
            "Epoch 52. Loss: 1.22876:  97% 15835/16352 [00:12<00:00, 1230.96it/s]\n",
            "Epoch 53. Loss: 1.24332:  97% 15835/16352 [00:12<00:00, 1237.87it/s]\n",
            "Epoch 54. Loss: 1.18352:  97% 15835/16352 [00:12<00:00, 1236.98it/s]\n",
            "Epoch 55. Loss: 1.21057:  97% 15835/16352 [00:12<00:00, 1238.42it/s]\n",
            "Epoch 56. Loss: 1.22697:  97% 15835/16352 [00:12<00:00, 1236.78it/s]\n",
            "Epoch 57. Loss: 1.21905:  97% 15835/16352 [00:12<00:00, 1232.40it/s]\n",
            "Epoch 58. Loss: 1.24336:  97% 15835/16352 [00:12<00:00, 1235.66it/s]\n",
            "Epoch 59. Loss: 1.21833:  97% 15835/16352 [00:12<00:00, 1232.96it/s]\n",
            "Epoch 60. Loss: 1.16949:  97% 15835/16352 [00:12<00:00, 1235.89it/s]\n",
            "Epoch 61. Loss: 1.19775:  97% 15835/16352 [00:12<00:00, 1241.00it/s]\n",
            "Epoch 62. Loss: 1.16089:  97% 15835/16352 [00:12<00:00, 1242.40it/s]\n",
            "Epoch 63. Loss: 1.13196:  97% 15835/16352 [00:12<00:00, 1232.54it/s]\n",
            "Epoch 64. Loss: 1.11894:  97% 15835/16352 [00:12<00:00, 1239.41it/s]\n",
            "Epoch 65. Loss: 1.14216:  97% 15835/16352 [00:12<00:00, 1239.07it/s]\n",
            "Epoch 66. Loss: 1.16061:  97% 15835/16352 [00:12<00:00, 1231.90it/s]\n",
            "Epoch 67. Loss: 1.14770:  97% 15835/16352 [00:12<00:00, 1242.24it/s]\n",
            "Epoch 68. Loss: 1.15195:  97% 15835/16352 [00:12<00:00, 1224.57it/s]\n",
            "Epoch 69. Loss: 1.12097:  97% 15835/16352 [00:12<00:00, 1226.96it/s]\n",
            "Epoch 70. Loss: 1.11730:  97% 15835/16352 [00:12<00:00, 1231.28it/s]\n",
            "Epoch 71. Loss: 1.12117:  97% 15835/16352 [00:12<00:00, 1234.81it/s]\n",
            "Epoch 72. Loss: 1.09256:  97% 15835/16352 [00:12<00:00, 1231.47it/s]\n",
            "Epoch 73. Loss: 1.12950:  97% 15835/16352 [00:12<00:00, 1236.74it/s]\n",
            "Epoch 74. Loss: 1.11053:  97% 15835/16352 [00:12<00:00, 1233.88it/s]\n",
            "Epoch 75. Loss: 1.09731:  97% 15835/16352 [00:12<00:00, 1232.59it/s]\n",
            "Epoch 76. Loss: 1.13538:  97% 15835/16352 [00:12<00:00, 1233.87it/s]\n",
            "Epoch 77. Loss: 1.09972:  97% 15835/16352 [00:12<00:00, 1228.92it/s]\n",
            "Epoch 78. Loss: 1.08450:  97% 15835/16352 [00:12<00:00, 1226.97it/s]\n",
            "Epoch 79. Loss: 1.07040:  97% 15835/16352 [00:12<00:00, 1241.36it/s]\n",
            "Epoch 80. Loss: 1.06662:  97% 15835/16352 [00:12<00:00, 1233.90it/s]\n",
            "Epoch 81. Loss: 1.05635:  97% 15835/16352 [00:12<00:00, 1237.51it/s]\n",
            "Epoch 82. Loss: 1.08552:  97% 15835/16352 [00:12<00:00, 1234.45it/s]\n",
            "Epoch 83. Loss: 1.10894:  97% 15835/16352 [00:12<00:00, 1222.87it/s]\n",
            "Epoch 84. Loss: 1.09375:  97% 15835/16352 [00:12<00:00, 1245.74it/s]\n",
            "Epoch 85. Loss: 1.05194:  97% 15835/16352 [00:12<00:00, 1230.63it/s]\n",
            "Epoch 86. Loss: 1.08643:  97% 15835/16352 [00:12<00:00, 1237.26it/s]\n",
            "Epoch 87. Loss: 1.05590:  97% 15835/16352 [00:12<00:00, 1233.18it/s]\n",
            "Epoch 88. Loss: 1.06301:  97% 15835/16352 [00:12<00:00, 1225.71it/s]\n",
            "Epoch 89. Loss: 1.01740:  97% 15835/16352 [00:13<00:00, 1213.94it/s]\n",
            "Epoch 90. Loss: 1.08864:  97% 15835/16352 [00:12<00:00, 1224.55it/s]\n",
            "Epoch 91. Loss: 1.09367:  97% 15835/16352 [00:12<00:00, 1239.42it/s]\n",
            "Epoch 92. Loss: 1.05880:  97% 15835/16352 [00:12<00:00, 1220.21it/s]\n",
            "Epoch 93. Loss: 1.04421:  97% 15835/16352 [00:13<00:00, 1208.82it/s]\n",
            "Epoch 94. Loss: 1.07436:  97% 15835/16352 [00:12<00:00, 1227.57it/s]\n",
            "Epoch 95. Loss: 1.03462:  97% 15835/16352 [00:12<00:00, 1224.69it/s]\n",
            "Epoch 96. Loss: 1.07475:  97% 15835/16352 [00:12<00:00, 1227.27it/s]\n",
            "Epoch 97. Loss: 1.04260:  97% 15835/16352 [00:12<00:00, 1228.55it/s]\n",
            "Epoch 98. Loss: 1.04105:  97% 15835/16352 [00:12<00:00, 1237.55it/s]\n",
            "Epoch 99. Loss: 1.05218:  97% 15835/16352 [00:12<00:00, 1230.71it/s]\n",
            "Epoch 100. Loss: 1.06819:  97% 15835/16352 [00:12<00:00, 1237.43it/s]\n",
            "Epoch 101. Loss: 1.07732:  97% 15835/16352 [00:12<00:00, 1237.62it/s]\n",
            "Epoch 102. Loss: 1.01693:  97% 15835/16352 [00:12<00:00, 1232.56it/s]\n",
            "Epoch 103. Loss: 1.06717:  97% 15835/16352 [00:12<00:00, 1228.46it/s]\n",
            "Epoch 104. Loss: 1.05027:  97% 15835/16352 [00:12<00:00, 1232.47it/s]\n",
            "Epoch 105. Loss: 1.02958:  97% 15835/16352 [00:12<00:00, 1231.01it/s]\n",
            "Epoch 106. Loss: 1.01649:  97% 15835/16352 [00:12<00:00, 1227.33it/s]\n",
            "Epoch 107. Loss: 1.08392:  97% 15835/16352 [00:12<00:00, 1223.76it/s]\n",
            "Epoch 108. Loss: 1.02013:  97% 15835/16352 [00:12<00:00, 1225.03it/s]\n",
            "Epoch 109. Loss: 1.02529:  97% 15835/16352 [00:12<00:00, 1225.81it/s]\n",
            "Epoch 110. Loss: 1.05207:  97% 15835/16352 [00:12<00:00, 1224.16it/s]\n",
            "Epoch 111. Loss: 0.96344:  97% 15835/16352 [00:12<00:00, 1228.11it/s]\n",
            "Epoch 112. Loss: 1.03371:  97% 15835/16352 [00:12<00:00, 1227.29it/s]\n",
            "Epoch 113. Loss: 1.05616:  97% 15835/16352 [00:12<00:00, 1233.55it/s]\n",
            "Epoch 114. Loss: 1.02301:  97% 15835/16352 [00:12<00:00, 1226.68it/s]\n",
            "Epoch 115. Loss: 1.01038:  97% 15835/16352 [00:12<00:00, 1228.45it/s]\n",
            "Epoch 116. Loss: 0.98196:  97% 15835/16352 [00:12<00:00, 1227.50it/s]\n",
            "Epoch 117. Loss: 0.97001:  97% 15835/16352 [00:13<00:00, 1213.46it/s]\n",
            "Epoch 118. Loss: 1.02556:  97% 15835/16352 [00:12<00:00, 1228.86it/s]\n",
            "Epoch 119. Loss: 0.98233:  97% 15835/16352 [00:12<00:00, 1229.06it/s]\n",
            "Epoch 120. Loss: 1.01510:  97% 15835/16352 [00:12<00:00, 1231.22it/s]\n",
            "Epoch 121. Loss: 0.96390:  97% 15835/16352 [00:12<00:00, 1224.38it/s]\n",
            "Epoch 122. Loss: 0.99581:  97% 15835/16352 [00:12<00:00, 1221.87it/s]\n",
            "Epoch 123. Loss: 1.01049:  97% 15835/16352 [00:12<00:00, 1231.80it/s]\n",
            "Epoch 124. Loss: 0.96439:  97% 15835/16352 [00:12<00:00, 1228.14it/s]\n",
            "Epoch 125. Loss: 0.98356:  97% 15835/16352 [00:12<00:00, 1232.33it/s]\n",
            "Epoch 126. Loss: 0.97670:  97% 15835/16352 [00:12<00:00, 1223.97it/s]\n",
            "Epoch 127. Loss: 1.01022:  97% 15835/16352 [00:12<00:00, 1224.69it/s]\n",
            "Epoch 128. Loss: 1.03038:  97% 15835/16352 [00:12<00:00, 1234.24it/s]\n",
            "Epoch 129. Loss: 1.00259:  97% 15835/16352 [00:12<00:00, 1230.82it/s]\n",
            "Epoch 130. Loss: 0.97547:  97% 15835/16352 [00:12<00:00, 1228.14it/s]\n",
            "Epoch 131. Loss: 1.04565:  97% 15835/16352 [00:12<00:00, 1232.30it/s]\n",
            "Epoch 132. Loss: 0.97626:  97% 15835/16352 [00:12<00:00, 1228.62it/s]\n",
            "Epoch 133. Loss: 0.98807:  97% 15835/16352 [00:12<00:00, 1226.05it/s]\n",
            "Epoch 134. Loss: 0.98669:  97% 15835/16352 [00:12<00:00, 1225.27it/s]\n",
            "Epoch 135. Loss: 1.00789:  97% 15835/16352 [00:12<00:00, 1231.19it/s]\n",
            "Epoch 136. Loss: 0.99956:  97% 15835/16352 [00:12<00:00, 1232.76it/s]\n",
            "Epoch 137. Loss: 0.96936:  97% 15835/16352 [00:12<00:00, 1231.78it/s]\n",
            "Epoch 138. Loss: 0.97193:  97% 15835/16352 [00:12<00:00, 1226.91it/s]\n",
            "Epoch 139. Loss: 0.94466:  97% 15835/16352 [00:12<00:00, 1222.41it/s]\n",
            "Epoch 140. Loss: 0.98864:  97% 15835/16352 [00:12<00:00, 1230.60it/s]\n",
            "Epoch 141. Loss: 1.00690:  97% 15835/16352 [00:13<00:00, 1205.76it/s]\n",
            "Epoch 142. Loss: 1.01200:  97% 15835/16352 [00:12<00:00, 1227.70it/s]\n",
            "Epoch 143. Loss: 0.98266:  97% 15835/16352 [00:12<00:00, 1227.41it/s]\n",
            "Epoch 144. Loss: 0.95835:  97% 15835/16352 [00:12<00:00, 1231.14it/s]\n",
            "Epoch 145. Loss: 0.96843:  97% 15835/16352 [00:12<00:00, 1226.71it/s]\n",
            "Epoch 146. Loss: 0.98796:  97% 15835/16352 [00:12<00:00, 1228.38it/s]\n",
            "Epoch 147. Loss: 0.99038:  97% 15835/16352 [00:12<00:00, 1227.90it/s]\n",
            "Epoch 148. Loss: 1.03082:  97% 15835/16352 [00:12<00:00, 1230.55it/s]\n",
            "Epoch 149. Loss: 0.92832:  97% 15835/16352 [00:12<00:00, 1229.22it/s]\n",
            "Epoch 150. Loss: 0.96678:  97% 15835/16352 [00:12<00:00, 1224.81it/s]\n",
            "Epoch 151. Loss: 0.99962:  97% 15835/16352 [00:12<00:00, 1219.96it/s]\n",
            "Epoch 152. Loss: 0.96967:  97% 15835/16352 [00:12<00:00, 1223.98it/s]\n",
            "Epoch 153. Loss: 0.96517:  97% 15835/16352 [00:12<00:00, 1227.98it/s]\n",
            "Epoch 154. Loss: 0.99495:  97% 15835/16352 [00:12<00:00, 1230.83it/s]\n",
            "Epoch 155. Loss: 0.95581:  97% 15835/16352 [00:12<00:00, 1230.47it/s]\n",
            "Epoch 156. Loss: 0.96980:  97% 15835/16352 [00:12<00:00, 1232.80it/s]\n",
            "Epoch 157. Loss: 0.97894:  97% 15835/16352 [00:12<00:00, 1228.70it/s]\n",
            "Epoch 158. Loss: 0.98715:  97% 15835/16352 [00:12<00:00, 1220.89it/s]\n",
            "Epoch 159. Loss: 0.98844:  97% 15835/16352 [00:12<00:00, 1228.94it/s]\n",
            "Epoch 160. Loss: 0.90645:  97% 15835/16352 [00:12<00:00, 1229.49it/s]\n",
            "Epoch 161. Loss: 0.89071:  97% 15835/16352 [00:12<00:00, 1226.53it/s]\n",
            "Epoch 162. Loss: 0.95438:  97% 15835/16352 [00:12<00:00, 1231.03it/s]\n",
            "Epoch 163. Loss: 0.94419:  97% 15835/16352 [00:12<00:00, 1229.84it/s]\n",
            "Epoch 164. Loss: 0.93933:  97% 15835/16352 [00:13<00:00, 1217.09it/s]\n",
            "Epoch 165. Loss: 0.92724:  97% 15835/16352 [00:13<00:00, 1204.90it/s]\n",
            "Epoch 166. Loss: 0.92160:  97% 15835/16352 [00:12<00:00, 1224.94it/s]\n",
            "Epoch 167. Loss: 0.92134:  97% 15835/16352 [00:12<00:00, 1239.48it/s]\n",
            "Epoch 168. Loss: 0.97475:  97% 15835/16352 [00:12<00:00, 1239.16it/s]\n",
            "Epoch 169. Loss: 0.94804:  97% 15835/16352 [00:12<00:00, 1254.15it/s]\n",
            "Epoch 170. Loss: 0.91887:  97% 15835/16352 [00:12<00:00, 1247.53it/s]\n",
            "Epoch 171. Loss: 0.96366:  97% 15835/16352 [00:12<00:00, 1263.61it/s]\n",
            "Epoch 172. Loss: 0.97676:  97% 15835/16352 [00:12<00:00, 1264.56it/s]\n",
            "Epoch 173. Loss: 0.93739:  97% 15835/16352 [00:12<00:00, 1243.47it/s]\n",
            "Epoch 174. Loss: 0.94122:  97% 15835/16352 [00:12<00:00, 1265.28it/s]\n",
            "Epoch 175. Loss: 0.93704:  97% 15835/16352 [00:12<00:00, 1251.39it/s]\n",
            "Epoch 176. Loss: 0.89605:  97% 15835/16352 [00:12<00:00, 1259.18it/s]\n",
            "Epoch 177. Loss: 0.94462:  97% 15835/16352 [00:12<00:00, 1259.53it/s]\n",
            "Epoch 178. Loss: 0.92769:  97% 15835/16352 [00:12<00:00, 1252.40it/s]\n",
            "Epoch 179. Loss: 0.97430:  97% 15835/16352 [00:12<00:00, 1263.14it/s]\n",
            "Epoch 180. Loss: 0.93831:  97% 15835/16352 [00:12<00:00, 1265.43it/s]\n",
            "Epoch 181. Loss: 0.93709:  97% 15835/16352 [00:12<00:00, 1263.96it/s]\n",
            "Epoch 182. Loss: 0.91431:  97% 15835/16352 [00:12<00:00, 1263.55it/s]\n",
            "Epoch 183. Loss: 0.92997:  97% 15835/16352 [00:12<00:00, 1251.63it/s]\n",
            "Epoch 184. Loss: 0.89678:  97% 15835/16352 [00:12<00:00, 1248.75it/s]\n",
            "Epoch 185. Loss: 0.96415:  97% 15835/16352 [00:12<00:00, 1261.70it/s]\n",
            "Epoch 186. Loss: 0.90937:  97% 15835/16352 [00:12<00:00, 1258.88it/s]\n",
            "Epoch 187. Loss: 0.93464:  97% 15835/16352 [00:12<00:00, 1256.66it/s]\n",
            "Epoch 188. Loss: 0.93880:  97% 15835/16352 [00:12<00:00, 1260.91it/s]\n",
            "Epoch 189. Loss: 0.92066:  97% 15835/16352 [00:12<00:00, 1242.80it/s]\n",
            "Epoch 190. Loss: 0.94909:  97% 15835/16352 [00:12<00:00, 1235.11it/s]\n",
            "Epoch 191. Loss: 0.98920:  97% 15835/16352 [00:12<00:00, 1257.77it/s]\n",
            "Epoch 192. Loss: 0.88115:  97% 15835/16352 [00:12<00:00, 1261.36it/s]\n",
            "Epoch 193. Loss: 0.97725:  97% 15835/16352 [00:12<00:00, 1245.49it/s]\n",
            "Epoch 194. Loss: 0.92064:  97% 15835/16352 [00:12<00:00, 1259.04it/s]\n",
            "Epoch 195. Loss: 0.91782:  97% 15835/16352 [00:12<00:00, 1253.88it/s]\n",
            "Epoch 196. Loss: 0.92390:  97% 15835/16352 [00:12<00:00, 1252.74it/s]\n",
            "Epoch 197. Loss: 0.93228:  97% 15835/16352 [00:12<00:00, 1251.59it/s]\n",
            "Epoch 198. Loss: 0.93344:  97% 15835/16352 [00:12<00:00, 1247.61it/s]\n",
            "Epoch 199. Loss: 0.93145:  97% 15835/16352 [00:12<00:00, 1251.25it/s]\n",
            "Evaluating model...\n",
            "\t - Recall@20 epoch 199: 0.510643\n",
            "\t - MRR@20    epoch 199: 0.207603\n",
            "\n"
          ],
          "name": "stdout"
        }
      ]
    },
    {
      "cell_type": "markdown",
      "metadata": {
        "id": "YdMFiWFK65w1"
      },
      "source": [
        "Indique el resultado del modelo con Dwell Time. \n",
        "\n",
        "**COMPLETE**\n",
        "\n",
        "La información implícita que provee esta técnica sí está siendo útil para\n",
        "que el modelo aprenda de mejor manera. Luego del desarrollo de las simulaciones, se obtiene mejores resultados tanto en Recall@20 y MRR@20. Estos\n",
        "resultados son considerablemente mejores."
      ]
    }
  ]
}